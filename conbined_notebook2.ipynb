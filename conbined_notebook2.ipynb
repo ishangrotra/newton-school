{
 "cells": [
  {
   "cell_type": "markdown",
   "metadata": {},
   "source": [
    "\n",
    "\n",
    "**Description:** This lesson describes [operators](https://docs.constellate.org/key-terms/#operator), [expressions](https://docs.constellate.org/key-terms/#expression), data types, [variables](https://docs.constellate.org/key-terms/#variable), and basic [functions](https://docs.constellate.org/key-terms/#function). Complete this lesson if you are familiar with [Jupyter notebooks](https://docs.constellate.org/key-terms/#jupyter-notebook) or have completed *Getting Started with Jupyter Notebooks*, but do not have any experience with [Python](https://docs.constellate.org/key-terms/#python) programming. This is part 1 of 5 in the series *Python Basics* that will prepare you to do text analysis using the [Python](https://docs.constellate.org/key-terms/#python) programming language.\n",
    "\n",
    "**Use Case:** For Learners (Detailed explanation, not ideal for researchers)\n",
    "\n",
    "\n",
    "\n",
    "**Knowledge Recommended:** None\n",
    "\n",
    "**Data Format:** None\n",
    "\n",
    "**Libraries Used:** None\n",
    "\n",
    "**Research Pipeline:** None\n",
    "___"
   ]
  },
  {
   "cell_type": "markdown",
   "metadata": {},
   "source": [
    "## Introduction\n",
    "\n",
    "[Python](https://docs.constellate.org/key-terms/#python) is the fastest-growing language in computer programming. Learning [Python](https://docs.constellate.org/key-terms/#python) is a great choice because [Python](https://docs.constellate.org/key-terms/#python) is:\n",
    "\n",
    "* Widely-adopted in the digital humanities and data science\n",
    "* Regarded as an easy-to-learn language\n",
    "* Flexible, having wide support for working with numerical and textual data \n",
    "* A skill desired by employers in academic, non-profit, and private sectors\n",
    "\n",
    "The second most-popular language for digital humanities and data science work is [R](https://docs.constellate.org/key-terms/#r). We plan to create additional support for learning [R](https://docs.constellate.org/key-terms/#r) soon. If you are interested in helping develop open educational resources for [R](https://docs.constellate.org/key-terms/#r)\n",
    "\n",
    "The skills you'll learn in *Python Basics* 1-5 are general-purpose [Python](https://docs.constellate.org/key-terms/#python) skills, applicable for any of the text analysis notebooks that you may explore later. They are also widely applicable to many other kinds of tasks in [Python](https://docs.constellate.org/key-terms/#python) beyond text analysis.\n",
    "\n",
    "**Making Mistakes is Important**\n",
    "\n",
    "Every programmer at every skill level gets errors in their code. Making mistakes is how we all learn to program. Programming is a little like solving a puzzle where the goal is to get the desired outcome through a series of attempts. You won't solve the puzzle if you're afraid to test if the pieces match. An error message will not break your computer. Remember, you can always reload a notebook if it stops working properly or you misplace an important piece of code. Under the edit menu, there is an option to undo changes. (Alternatively, you can use **command z** on Mac and **control z** on Windows.) To learn any skill, you need to be willing to play and experiment. Programming is no different.\n",
    "\n",
    "## Expressions and Operators\n",
    "\n",
    "The simplest form of Python programming is an [expression](https://docs.constellate.org/key-terms/#expression) using an [operator](https://docs.constellate.org/key-terms/#operator). An [expression](https://docs.constellate.org/key-terms/#expression) is a simple mathematical statement like:\n",
    "\n",
    "> 1 + 1\n",
    "\n",
    "The [operator](https://docs.constellate.org/key-terms/#operator) in this case is `+`, sometimes called \"plus\" or \"addition\". Try this operation in the code box below. Remember to click the \"Run\" button or press Ctrl + Enter (Windows) or shift + return (OS X) on your keyboard to run the code."
   ]
  },
  {
   "cell_type": "code",
   "execution_count": null,
   "metadata": {},
   "outputs": [],
   "source": [
    "# Type the expression in this code block. Then run it.\n"
   ]
  },
  {
   "cell_type": "markdown",
   "metadata": {},
   "source": [
    "Python can handle a large variety of [expressions](https://docs.constellate.org/key-terms/#expression). Let's try subtraction in the next [code cell](https://docs.constellate.org/key-terms/#code-cell)."
   ]
  },
  {
   "cell_type": "code",
   "execution_count": null,
   "metadata": {},
   "outputs": [],
   "source": [
    "# Type an expression that uses subtraction in this cell. Then run it.\n"
   ]
  },
  {
   "cell_type": "markdown",
   "metadata": {},
   "source": [
    "We can also do multiplication (\\*) and division (/). While you may have used an \"×\" to represent multiplication in grade school, [Python](https://docs.constellate.org/key-terms/#python) uses an asterisk (\\*). In [Python](https://docs.constellate.org/key-terms/#python),\n",
    "\n",
    "> 2 × 2\n",
    "\n",
    "is written as\n",
    "\n",
    "> 2 * 2\n",
    "\n",
    "Try a multiplication and a division in the next [code cell](https://docs.constellate.org/key-terms/#code-cell)."
   ]
  },
  {
   "cell_type": "code",
   "execution_count": null,
   "metadata": {},
   "outputs": [],
   "source": [
    "# Try a multiplication in this cell. Then try a division.\n",
    "# What happens if you combine them? What if you combine them with addition and/or subtraction?\n"
   ]
  },
  {
   "cell_type": "markdown",
   "metadata": {},
   "source": [
    "When you run, or **evaluate**, an [expression](https://docs.constellate.org/key-terms/#expression) in [Python](https://docs.constellate.org/key-terms/#python), the order of operations is followed. (In grade school, you may remember learning the shorthand \"PEMDAS\".) This means that [expressions](https://docs.constellate.org/key-terms/#expression) are evaluated in this order:\n",
    "\n",
    "1. Parentheses\n",
    "2. Exponents\n",
    "3. Multiplication and Division (from left to right)\n",
    "4. Addition and Subtraction (from left to right)\n",
    "\n",
    "[Python](https://docs.constellate.org/key-terms/#python) can evaluate parentheses and exponents, as well as a number of additional [operators](https://docs.constellate.org/key-terms/#operator) you may not have learned in grade school. Here are the main [operators](https://docs.constellate.org/key-terms/#operator) that you might use presented in the order they are evaluated:\n",
    "\n",
    "|Operator| Operation| Example | Evaluation |\n",
    "|---|----|---|---|\n",
    "|\\*\\*| Exponent/Power| 3 ** 3 | 27 |\n",
    "|%| Modulus/Remainder| 34 % 6 | 4 |\n",
    "|/| Division | 30 / 6 | 5|\n",
    "|\\*| Multiplication | 7 * 8 | 56 |\n",
    "|-| Subtraction | 18 - 4| 14|\n",
    "|+| Addition | 4 + 3 | 7 |"
   ]
  },
  {
   "cell_type": "code",
   "execution_count": null,
   "metadata": {},
   "outputs": [],
   "source": [
    "# Try operations in this code cell.\n",
    "# What happens when you add in parentheses?\n"
   ]
  },
  {
   "cell_type": "markdown",
   "metadata": {
    "toc-hr-collapsed": true,
    "toc-nb-collapsed": true
   },
   "source": [
    "## Data Types (Integers, Floats, and Strings)\n",
    "\n",
    "All [expressions](https://docs.constellate.org/key-terms/#expression) evaluate to a single value. In the above examples, our [expressions](https://docs.constellate.org/key-terms/#expression) evaluated to single numerical value. Numerical values come in two basic forms:\n",
    "\n",
    "* [integer](https://docs.constellate.org/key-terms/#integer)\n",
    "* [float](https://docs.constellate.org/key-terms/#float) (or floating-point number)\n",
    "\n",
    "An [integer](https://docs.constellate.org/key-terms/#integer), what we sometimes call a \"whole number\", is a number without a decimal point that can be positive or negative. When a value uses a decimal, it is called a [float](https://docs.constellate.org/key-terms/#float) or floating-point number. Two numbers that are mathematically equivalent could be in two different data types. For example, mathematically 5 is equal to 5.0, yet the former is an [integer](https://docs.constellate.org/key-terms/#integer) while the latter is a [float](https://docs.constellate.org/key-terms/#float).\n",
    "\n",
    "Of course, [Python](https://docs.constellate.org/key-terms/#python) can also help us manipulate text. A snippet of text in Python is called a [string](https://docs.constellate.org/key-terms/#string). A [string](https://docs.constellate.org/key-terms/#string) can be written with single or double quotes. A [string](https://docs.constellate.org/key-terms/#string) can use letters, spaces, line breaks, and numbers. So 5 is an [integer](https://docs.constellate.org/key-terms/#integer), 5.0 is a [float](https://docs.constellate.org/key-terms/#float), but '5' and '5.0' are [strings](https://docs.constellate.org/key-terms/#string). A [string](https://docs.constellate.org/key-terms/#string) can also be blank, such as ''.\n",
    "\n",
    "|Familiar Name | Programming name | Examples |\n",
    "|---|---|---|\n",
    "|Whole number|integer| -3, 0, 2, 534|\n",
    "|Decimal|float | 6.3, -19.23, 5.0, 0.01|\n",
    "|Text|string| 'Hello world', '1700 butterflies', '', '1823'|\n",
    "\n",
    "The distinction between each of these data types may seem unimportant, but [Python](https://docs.constellate.org/key-terms/#python) treats each one differently. For example, we can ask [Python](https://docs.constellate.org/key-terms/#python) whether an [integer](https://docs.constellate.org/key-terms/#integer) is equal to a [float](https://docs.constellate.org/key-terms/#float), but we cannot ask whether a [string](https://docs.constellate.org/key-terms/#string) is equal to an [integer](https://docs.constellate.org/key-terms/#integer) or a [float](https://docs.constellate.org/key-terms/#float).\n",
    "\n",
    "To evaluate whether two values are equal, we can use two equals signs between them. The expression will evaluate to either `True` or `False`."
   ]
  },
  {
   "cell_type": "code",
   "execution_count": null,
   "metadata": {},
   "outputs": [],
   "source": [
    "# Run this code cell to determine whether the values are equal\n",
    "42 == 42.0"
   ]
  },
  {
   "cell_type": "code",
   "execution_count": null,
   "metadata": {},
   "outputs": [],
   "source": [
    "# Run this code cell to compare an integer with a string\n",
    "15 == 'fifteen'"
   ]
  },
  {
   "cell_type": "code",
   "execution_count": null,
   "metadata": {},
   "outputs": [],
   "source": [
    "# Run this code cell to compare an integer with a string\n",
    "15 == '15'"
   ]
  },
  {
   "cell_type": "markdown",
   "metadata": {},
   "source": [
    "When we use the addition [operator](https://docs.constellate.org/key-terms/#operator) on [integers](https://docs.constellate.org/key-terms/#integer) or [floats](https://docs.constellate.org/key-terms/#float), they are added to create a sum. When we use the addition [operator](https://docs.constellate.org/key-terms/#operator) on [strings](https://docs.constellate.org/key-terms/#string), they are combined into a single, longer [string](https://docs.constellate.org/key-terms/#string). This is called [concatenation](https://docs.constellate.org/key-terms/#concatenation)."
   ]
  },
  {
   "cell_type": "code",
   "execution_count": null,
   "metadata": {},
   "outputs": [],
   "source": [
    "# Combine the strings 'Hello' and 'World'\n",
    "'hello' + ' world'"
   ]
  },
  {
   "cell_type": "markdown",
   "metadata": {},
   "source": [
    "Notice that the [strings](https://docs.constellate.org/key-terms/#string) are combined exactly as they are written. There is no space between the [strings](https://docs.constellate.org/key-terms/#string). If we want to include a space, we need to add the space to the end of 'Hello' or the beginning of 'World'. We can also concatenate multiple [strings](https://docs.constellate.org/key-terms/#string)."
   ]
  },
  {
   "cell_type": "code",
   "execution_count": null,
   "metadata": {},
   "outputs": [],
   "source": [
    "# Combine three strings"
   ]
  },
  {
   "cell_type": "markdown",
   "metadata": {},
   "source": [
    "When we use addition [operator](https://docs.constellate.org/key-terms/#operator), the values must be all numbers or all [strings](https://docs.constellate.org/key-terms/#string). Combining them will create an error."
   ]
  },
  {
   "cell_type": "code",
   "execution_count": null,
   "metadata": {},
   "outputs": [],
   "source": [
    "# Try adding a string to an integer\n",
    "'55' + 23"
   ]
  },
  {
   "cell_type": "markdown",
   "metadata": {},
   "source": [
    "Here, we receive the error `can only concatenate str (not \"int\") to str`. [Python](https://docs.constellate.org/key-terms/#python) assumes we would like to join two [strings](https://docs.constellate.org/key-terms/#string) together, but it does not know how to join a [string](https://docs.constellate.org/key-terms/#string) to an [integer](https://docs.constellate.org/key-terms/#integer). Put another way, [Python](https://docs.constellate.org/key-terms/#python) is unsure if we want:\n",
    "\n",
    ">'55' + 23 \n",
    "\n",
    "to become\n",
    ">'5523'\n",
    "\n",
    "or \n",
    ">78"
   ]
  },
  {
   "cell_type": "markdown",
   "metadata": {},
   "source": [
    "We *can* multiply a [string](https://docs.constellate.org/key-terms/#string) by an [integer](https://docs.constellate.org/key-terms/#integer). The result is simply the [string](https://docs.constellate.org/key-terms/#string) repeated the appropriate number of times."
   ]
  },
  {
   "cell_type": "code",
   "execution_count": null,
   "metadata": {},
   "outputs": [],
   "source": [
    "# Multiply a string by an integer"
   ]
  },
  {
   "cell_type": "markdown",
   "metadata": {
    "toc-hr-collapsed": true,
    "toc-nb-collapsed": true
   },
   "source": [
    "## Variables\n",
    "\n"
   ]
  },
  {
   "cell_type": "markdown",
   "metadata": {},
   "source": [
    "A [variable](https://docs.constellate.org/key-terms/#variable) is like a container that stores information. There are many kinds of information that can be stored in a [variable](https://docs.constellate.org/key-terms/#variable), including the data types we have already discussed ([integers](https://docs.constellate.org/key-terms/#integer), [floats](https://docs.constellate.org/key-terms/#float), and [string](https://docs.constellate.org/key-terms/#string)). We create (or *initialize*) a [variable](https://docs.constellate.org/key-terms/#variable) with an [assignment statement](https://docs.constellate.org/key-terms/#assignment-statement). The [assignment statement](https://docs.constellate.org/key-terms/#assignment-statement) gives the variable an initial value."
   ]
  },
  {
   "cell_type": "code",
   "execution_count": null,
   "metadata": {},
   "outputs": [],
   "source": [
    "# Initialize an integer variable and add 22 \n",
    "new_integer_variable = 5\n",
    "new_integer_variable + 22"
   ]
  },
  {
   "cell_type": "markdown",
   "metadata": {},
   "source": [
    "The value of a [variable](https://docs.constellate.org/key-terms/#variable) can be overwritten with a new value."
   ]
  },
  {
   "cell_type": "code",
   "execution_count": null,
   "metadata": {},
   "outputs": [],
   "source": [
    "# Overwrite the value of my_favorite_number when the commented out line of code is executed. \n",
    "# Remove the # in the line \"#my_favorite_number = 9\" to turn the line into executable code.\n",
    "\n",
    "my_favorite_number = 7\n",
    "my_favorite_number = 9\n",
    "my_favorite_number"
   ]
  },
  {
   "cell_type": "code",
   "execution_count": null,
   "metadata": {},
   "outputs": [],
   "source": [
    "# Overwriting the value of a variable using its original value\n",
    "cats_in_house = 1\n",
    "cats_in_house = cats_in_house + 2\n",
    "cats_in_house"
   ]
  },
  {
   "cell_type": "code",
   "execution_count": null,
   "metadata": {},
   "outputs": [],
   "source": [
    "# A shorthand version\n",
    "cats_in_house += 2\n",
    "cats_in_house"
   ]
  },
  {
   "cell_type": "code",
   "execution_count": null,
   "metadata": {},
   "outputs": [],
   "source": [
    "# Initialize a string variable and concatenate another string\n",
    "new_string_variable = 'Hello '\n",
    "new_string_variable + 'World!'"
   ]
  },
  {
   "cell_type": "markdown",
   "metadata": {},
   "source": [
    "You can create a [variable](https://docs.constellate.org/key-terms/#variable) with almost any name, but there are a few guidelines that are recommended.\n",
    "\n",
    "### Variable Names Should be Descriptive\n",
    "\n",
    "If we create a [variable](https://docs.constellate.org/key-terms/#variable) that stores the day of the month, it is helpful to give it a name that makes the value stored inside it clear like `day_of_month`. From a logical perspective, we could call the [variable](https://docs.constellate.org/key-terms/#variable) almost anything (`hotdog`, `rabbit`, `flat_tire`). As long as we are consistent, the code will execute the same. When it comes time to read, modify, and understand the code, however, it will be confusing to you and others. Consider this simple program that lets us change the `days` [variable](https://docs.constellate.org/key-terms/#variable) to compute the number of seconds in that many days."
   ]
  },
  {
   "cell_type": "code",
   "execution_count": null,
   "metadata": {},
   "outputs": [],
   "source": [
    "# Compute the number of seconds in 3 days\n",
    "days = 3\n",
    "hours_in_day = 24\n",
    "minutes_in_hour = 60\n",
    "seconds_in_minute = 60\n",
    "\n",
    "days * hours_in_day * minutes_in_hour * seconds_in_minute"
   ]
  },
  {
   "cell_type": "markdown",
   "metadata": {},
   "source": [
    "We could write a program that is logically the same, but uses confusing [variable](https://docs.constellate.org/key-terms/#variable) names."
   ]
  },
  {
   "cell_type": "code",
   "execution_count": null,
   "metadata": {},
   "outputs": [],
   "source": [
    "hotdogs = 60\n",
    "sasquatch = 24\n",
    "example = 3\n",
    "answer = 60\n",
    "\n",
    "answer * sasquatch * example * hotdogs"
   ]
  },
  {
   "cell_type": "markdown",
   "metadata": {},
   "source": [
    "This code gives us the same answer as the first example, but it is confusing. Not only does this code use [variable](https://docs.constellate.org/key-terms/#variable) names that are confusing, it also does not include any comments to explain what the code does. It is not clear that we would change `example` to set a different number of days. It is not even clear what the purpose of the code is. As code gets longer and more complex, having clear [variable](https://docs.constellate.org/key-terms/#variable) names and explanatory comments is very important."
   ]
  },
  {
   "cell_type": "markdown",
   "metadata": {
    "toc-hr-collapsed": true,
    "toc-nb-collapsed": true
   },
   "source": [
    "### Variable Naming Rules\n",
    "\n",
    "In addition to being descriptive, [variable](https://docs.constellate.org/key-terms/#variable) names must follow 3 basic rules:\n",
    "\n",
    "1. Must be one word (no spaces allowed)\n",
    "2. Only letters, numbers and the underscore character (\\_)\n",
    "3. Cannot begin with a number\n",
    "\n",
    "\n"
   ]
  },
  {
   "cell_type": "code",
   "execution_count": null,
   "metadata": {},
   "outputs": [],
   "source": [
    "# Which of these variable names are acceptable? \n",
    "# Comment out the variables that are not allowed in Python and run this cell to check if the variable assignment works. \n",
    "# If you get an error, the variable name is not allowed in Python.\n",
    "\n",
    "$variable = 1\n",
    "a variable = 2\n",
    "a_variable = 3\n",
    "4variable = 4\n",
    "variable5 = 5\n",
    "variable-6 = 6\n",
    "variAble = 7\n",
    "Avariable = 8\n"
   ]
  },
  {
   "cell_type": "markdown",
   "metadata": {},
   "source": [
    "### Variable Naming Style Guidelines\n",
    "\n",
    "The three rules above describe absolute rules of [Python](https://docs.constellate.org/key-terms/#python) [variable](https://docs.constellate.org/key-terms/#variable) naming. If you break those rules, your code will create an error and fail to execute properly. There are also style *guidelines* that, while they won't break your code, are generally advised for making your code readable and understandable. These style guidelines are written in the [Python Enhancement Proposals (PEP) Style Guide](https://www.python.org/dev/peps/pep-0008/).\n",
    "\n",
    "The current version of the style guide advises that [variable](https://docs.constellate.org/key-terms/#variable) names should be written:\n",
    ">lowercase, with words separated by underscores as necessary to improve readability.\n",
    "\n",
    "If you have written code before, you may be familiar with other styles, but these notebooks will attempt to follow the PEP guidelines for style. Ultimately, the most important thing is that your [variable](https://docs.constellate.org/key-terms/#variable) names are consistent so that someone who reads your code can follow what it is doing. As your code becomes more complicated, writing detailed comments with `#` will also become more important."
   ]
  },
  {
   "cell_type": "markdown",
   "metadata": {
    "toc-hr-collapsed": true,
    "toc-nb-collapsed": true
   },
   "source": [
    "## The `print()` and `input()` Functions\n",
    "\n",
    "Many different kinds of programs often need to do very similar operations. Instead of writing the same code over again, you can use a [function](https://docs.constellate.org/key-terms/#function). Essentially, a [function](https://docs.constellate.org/key-terms/#function) is a small snippet of code that can be quickly referenced. There are three kinds of [functions](https://docs.constellate.org/key-terms/#function):\n",
    "\n",
    "* Native [functions](https://docs.constellate.org/key-terms/#function) built into [Python](https://docs.constellate.org/key-terms/#python)\n",
    "* [Functions](https://docs.constellate.org/key-terms/#function) others have written that you can import\n",
    "* [Functions](https://docs.constellate.org/key-terms/#function) you write yourself\n",
    "\n",
    "We'll address [functions](https://docs.constellate.org/key-terms/#function) you write yourself in *Python Basics 4*. For now, let's look at a few of the native [functions](https://docs.constellate.org/key-terms/#function). One of the most common [functions](https://docs.constellate.org/key-terms/#function) used in [Python](https://docs.constellate.org/key-terms/#python) is the `print()` [function](https://docs.constellate.org/key-terms/#function) which simply prints a [string](https://docs.constellate.org/key-terms/#string)."
   ]
  },
  {
   "cell_type": "code",
   "execution_count": null,
   "metadata": {},
   "outputs": [],
   "source": [
    "# A print function that prints: Hello World!\n",
    "print('Hello World!')"
   ]
  },
  {
   "cell_type": "markdown",
   "metadata": {},
   "source": [
    "We could also define a [variable](https://docs.constellate.org/key-terms/#variable) with our [string](https://docs.constellate.org/key-terms/#string) ```'Hello World!'``` and then pass that [variable](https://docs.constellate.org/key-terms/#variable) into the `print()` function. It is common for functions to take an input, called an [argument](https://docs.constellate.org/key-terms/#argument), that is placed inside the parentheses ()."
   ]
  },
  {
   "cell_type": "code",
   "execution_count": null,
   "metadata": {},
   "outputs": [],
   "source": [
    "# Define a string and then print it\n",
    "our_string = 'Hello World!'\n",
    "print(our_string)"
   ]
  },
  {
   "cell_type": "markdown",
   "metadata": {},
   "source": [
    "There is also an `input()` [function](https://docs.constellate.org/key-terms/#function) for taking user input."
   ]
  },
  {
   "cell_type": "code",
   "execution_count": null,
   "metadata": {},
   "outputs": [],
   "source": [
    "# A program to greet the user by name\n",
    "print('Hi. What is your name?') # Ask the user for their name\n",
    "user_name = input() # Take the user's input and put it into the variable user_name\n",
    "print('Pleased to meet you, ' + user_name) # Print a greeting with the user's name"
   ]
  },
  {
   "cell_type": "markdown",
   "metadata": {},
   "source": [
    "We defined a [string](https://docs.constellate.org/key-terms/#string) [variable](https://docs.constellate.org/key-terms/#variable) ```user_name``` to hold the user's input. We then called the `print()` [function](https://docs.constellate.org/key-terms/#function) to print the [concatenation](https://docs.constellate.org/key-terms/#concatenate) of 'Pleased to meet you, ' and the user's input that was captured in the [variable](https://docs.constellate.org/key-terms/#variable) ```user_name```. Remember that we can use a ```+``` to [concatenate](https://docs.constellate.org/key-terms/#concatenate), meaning join these [strings](https://docs.constellate.org/key-terms/#string) together.\n",
    "\n",
    "Here are couple more tricks we can use. You can pass a string variable into the `input` function for a prompt and you can use an `f string` to add the variable into the print string without use the `+` operator to concatenate both strings."
   ]
  },
  {
   "cell_type": "code",
   "execution_count": null,
   "metadata": {},
   "outputs": [],
   "source": [
    "# A program to greet the user by name\n",
    "# Passing the prompt into the input() function\n",
    "# prints it automatically before taking the input\n",
    "user_name = input('Hi. What is your name? ')"
   ]
  },
  {
   "cell_type": "markdown",
   "metadata": {},
   "source": [
    "An `f string` starts with a letter f and can automatically concatenate variables enclosed in curly braces, like `{variable_name}`."
   ]
  },
  {
   "cell_type": "code",
   "execution_count": null,
   "metadata": {},
   "outputs": [],
   "source": [
    "# Using an f string to automatically concatenate\n",
    "# Without using the plus (+) operator\n",
    "print(f'Pleased to meet you, {user_name}')"
   ]
  },
  {
   "cell_type": "markdown",
   "metadata": {},
   "source": [
    "We can [concatenate](https://docs.constellate.org/key-terms/#concatenate) many [strings](https://docs.constellate.org/key-terms/#string) together, but we cannot [concatenate](https://docs.constellate.org/key-terms/#concatenate) [strings](https://docs.constellate.org/key-terms/#string) with [integers](https://docs.constellate.org/key-terms/#integer) or [floats](https://docs.constellate.org/key-terms/#float)."
   ]
  },
  {
   "cell_type": "code",
   "execution_count": null,
   "metadata": {},
   "outputs": [],
   "source": [
    "# Concatenating many strings within a print function\n",
    "print('Hello, ' + 'all ' + 'these ' + 'strings ' + 'are ' + 'being ' + 'connected ' + 'together.')"
   ]
  },
  {
   "cell_type": "code",
   "execution_count": null,
   "metadata": {},
   "outputs": [],
   "source": [
    "# Trying to concatenate a string with an integer causes an error\n",
    "print('There are ' + 7 + 'continents.')"
   ]
  },
  {
   "cell_type": "markdown",
   "metadata": {},
   "source": [
    "## The `str()`, `int()`, and `float()` functions\n",
    "\n",
    "We can transform one [variable](https://docs.constellate.org/key-terms/#variable) type into another [variable](https://docs.constellate.org/key-terms/#variable) type with the `str()`, `int()`, and `float()` [functions](https://docs.constellate.org/key-terms/#function). Let's convert the [integer](https://docs.constellate.org/key-terms/#integer) above into a [string](https://docs.constellate.org/key-terms/#string) so we can [concatenate](https://docs.constellate.org/key-terms/#concatenate) it."
   ]
  },
  {
   "cell_type": "code",
   "execution_count": null,
   "metadata": {},
   "outputs": [],
   "source": [
    "# Converting an integer into a string\n",
    "print('There are ' + str(7) + ' continents.')"
   ]
  },
  {
   "cell_type": "code",
   "execution_count": null,
   "metadata": {},
   "outputs": [],
   "source": [
    "# Convert the variable `number` to an integer\n",
    "# Then add 10 to it and print `number`\n",
    "number = '5'"
   ]
  },
  {
   "cell_type": "markdown",
   "metadata": {},
   "source": [
    "Mixing [strings](https://docs.constellate.org/key-terms/#string) with [floats](https://docs.constellate.org/key-terms/#float) and [integers](https://docs.constellate.org/key-terms/#integer) can have unexpected results. See if you can spot the problem with the program below."
   ]
  },
  {
   "cell_type": "code",
   "execution_count": null,
   "metadata": {},
   "outputs": [],
   "source": [
    "# A program to tell a user how many months old they are\n",
    "user_age = input('How old are you? ') # Take the user input and put it into the variable user_age\n",
    "number_of_months = user_age * 12 # Define a new variable number_of_months that multiplies the user's age by 12\n",
    "\n",
    "print('That is more than ' + number_of_months + ' months old!' ) # Print a response that tells the user they are at least number_of_months old"
   ]
  },
  {
   "cell_type": "markdown",
   "metadata": {},
   "source": [
    "In order to compute the [variable](https://docs.constellate.org/key-terms/#variable) ```number_of_months```, we multiply ```user_age``` by 12. The problem is that ```user_age``` is a [string](https://docs.constellate.org/key-terms/#string). Multiplying a [string](https://docs.constellate.org/key-terms/#string) by 12 simply makes the string repeat 12 times. After the user gives us their age, we need that input to be converted to an [integer](https://docs.constellate.org/key-terms/#integer). Can you fix the program?"
   ]
  },
  {
   "cell_type": "markdown",
   "metadata": {},
   "source": [
    "\n",
    "\n",
    "**Description:** This lesson describes the basics of [flow control statements](https://docs.constellate.org/key-terms/#flow-control-statement) including:\n",
    "* [Boolean values](https://docs.constellate.org/key-terms/#boolean-value)\n",
    "* [Boolean operators](https://docs.constellate.org/key-terms/#boolean-operator)\n",
    "* [Comparison operators](https://docs.constellate.org/key-terms/#comparison-operator)\n",
    "* `if` statements\n",
    "* `else` statements\n",
    "* `elif` statements\n",
    "* `while` and `for` loop statements\n",
    "* Handling errors with `try` and `except`\n",
    "\n",
    "This is part 2 of 5 in the series *Python Basics* that will prepare you to do text analysis using the [Python](https://docs.constellate.org/key-terms/#python) programming language.\n",
    "\n",
    "**Use Case:** For Learners (Detailed explanation, not ideal for researchers)\n",
    "\n",
    "\n",
    "**Knowledge Required:** \n",
    "* [Getting Started with Jupyter Notebooks](./getting-started-with-jupyter.ipynb)\n",
    "* [Python Basics 1](./python-basics-1.ipynb)\n",
    "\n",
    "**Knowledge Recommended:** None\n",
    "\n",
    "**Data Format:** None\n",
    "\n",
    "**Libraries Used:** `random` to generate random numbers\n",
    "\n",
    "**Research Pipeline:** None\n",
    "___"
   ]
  },
  {
   "cell_type": "markdown",
   "metadata": {},
   "source": [
    "## Flow Control Statements\n",
    "\n",
    "In *Python Basics 1*, you learned about [expressions](https://docs.constellate.org/key-terms/#expression), [operators](https://docs.constellate.org/key-terms/#operator), [variables](https://docs.constellate.org/key-terms/#variable), and a few native [Python](https://docs.constellate.org/key-terms/#python) [functions](https://docs.constellate.org/key-terms/#). We wrote programs that executed line-by-line, starting at the top and running to the bottom. This approach works great for simple programs that may execute a few tasks, but as you begin writing programs that can do multiple tasks you'll need a way for your programs to decide which action comes next. We can control when (or if) code gets executed with [flow control statements](https://docs.constellate.org/key-terms/#flow-control-statement). If a program is a set of steps for accomplishing a task, then [flow control statements](https://docs.constellate.org/key-terms/#flow-control-statement) help the program decide the next action.\n",
    "\n",
    "[Flow control statements](https://docs.constellate.org/key-terms/#flow-control-statement) work like a flowchart. For example, let's say your goal is to hang out and relax with friends. There are a number of steps you might take, depending on whether your friends are available or you feel like making some new friends.\n",
    "\n",
    "![Flowchart to hangout with friends](https://ithaka-labs.s3.amazonaws.com/static-files/images/tdm/tdmdocs/friends_flowchart.png)\n",
    "\n",
    "Each diamond in our flowchart represents a decision that has to be made about the best step to take next. This is the essence of [flow control statements](https://docs.constellate.org/key-terms/#flow-control-statement). They help a program decide what the next step should be given the current circumstances."
   ]
  },
  {
   "cell_type": "markdown",
   "metadata": {},
   "source": [
    "### Boolean Values\n",
    "\n",
    "One way we to create [flow control statements](https://docs.constellate.org/key-terms/#flow-control-statement) is with [boolean values](https://docs.constellate.org/key-terms/#boolean-value) that have two possible values: **True** or **False**. In our example above, we could consider a \"Yes\" to be \"True\" and a \"No\" to be \"False.\" When we have the data we need to answer each question, we could store that answer in a variable, like:\n",
    "\n",
    "* ```are_friends_available = False```\n",
    "* ```make_new_friends = True```\n",
    "* ```new_friend_available = True```\n",
    "\n",
    "This would allow us to determine which action to take next. When we assign [boolean values](https://docs.constellate.org/key-terms/#boolean-value) to a [variable](https://docs.constellate.org/key-terms/#variable), the first letter must be capitalized:"
   ]
  },
  {
   "cell_type": "code",
   "execution_count": null,
   "metadata": {},
   "outputs": [],
   "source": [
    "# Note, the first letter of a boolean value must always be capitalized in Python\n",
    "are_friends_available = false\n",
    "print(are_friends_available)"
   ]
  },
  {
   "cell_type": "code",
   "execution_count": null,
   "metadata": {},
   "outputs": [],
   "source": [
    "# The boolean values **True** and **False** cannot be used for variable names. \n",
    "# Treating the boolean value True as a variable will create an error\n",
    "True = 7"
   ]
  },
  {
   "cell_type": "code",
   "execution_count": null,
   "metadata": {},
   "outputs": [],
   "source": [
    "# But we can store Boolean values in a variable\n",
    "\n",
    "futbol_is_life = False\n",
    "tacos_are_life = True"
   ]
  },
  {
   "cell_type": "markdown",
   "metadata": {},
   "source": [
    "### Comparison Operators\n",
    "Now that we have a way to store [integers](https://docs.constellate.org/key-terms/#integer), [floats](https://docs.constellate.org/key-terms/#float), [strings](https://docs.constellate.org/key-terms/#string), and [boolean values](https://docs.constellate.org/key-terms/#boolean-value) in [variables](https://docs.constellate.org/key-terms/#variable), we can use a [comparison operator](https://docs.constellate.org/key-terms/#comparison-operator) to help make decisions based on those values. We used the [comparison operator](https://docs.constellate.org/key-terms/#comparison-operator) `==` in *Python Basics 1*. This operator asks whether two [expressions](https://docs.constellate.org/key-terms/#expression) are equal to each other."
   ]
  },
  {
   "cell_type": "code",
   "execution_count": null,
   "metadata": {},
   "outputs": [],
   "source": [
    "# Comparing two values with the comparison operator ==\n",
    "67 == 67"
   ]
  },
  {
   "cell_type": "code",
   "execution_count": null,
   "metadata": {},
   "outputs": [],
   "source": [
    "# Note, a comparison operator uses ==\n",
    "# Do not confuse with variable assignment statement which uses a single =\n",
    "67 = 67"
   ]
  },
  {
   "cell_type": "markdown",
   "metadata": {},
   "source": [
    "There are additional [comparison operators](https://docs.constellate.org/key-terms/#comparison-operator) that can help us with [flow control statements](https://docs.constellate.org/key-terms/#flow-control-statement).\n",
    "\n",
    "|Operator|Meaning|\n",
    "|---|---|\n",
    "|==|Equal to|\n",
    "|!=|Not equal to|\n",
    "|<|Less than|\n",
    "|>|Greater than|\n",
    "|<=|Less than or equal to|\n",
    "|>=|Greater than or equal to|"
   ]
  },
  {
   "cell_type": "code",
   "execution_count": null,
   "metadata": {},
   "outputs": [],
   "source": [
    "# Use the \"Not equal to\" operator\n"
   ]
  },
  {
   "cell_type": "code",
   "execution_count": null,
   "metadata": {},
   "outputs": [],
   "source": [
    "# Use the \"equal to\" operator with a string\n"
   ]
  },
  {
   "cell_type": "markdown",
   "metadata": {},
   "source": [
    "A string cannot be equal to a float or an integer."
   ]
  },
  {
   "cell_type": "code",
   "execution_count": null,
   "metadata": {},
   "outputs": [],
   "source": [
    "# Try using the \"equal to\" operator to compare a string with an integer\n"
   ]
  },
  {
   "cell_type": "markdown",
   "metadata": {},
   "source": [
    "But an integer can be equal to a float."
   ]
  },
  {
   "cell_type": "code",
   "execution_count": null,
   "metadata": {},
   "outputs": [],
   "source": [
    "# Try using the \"equal to\" operator to compare an integer with a float\n"
   ]
  },
  {
   "cell_type": "markdown",
   "metadata": {},
   "source": [
    "We can use the comparison operator with variables."
   ]
  },
  {
   "cell_type": "code",
   "execution_count": null,
   "metadata": {},
   "outputs": [],
   "source": [
    "# Using a comparison operator on a variable\n",
    "# Create a variable number_of_dogs and assign the value of zero\n",
    "\n",
    "\n",
    "# Check whether number_of_dogs is greater than or equal to 1\n"
   ]
  },
  {
   "cell_type": "markdown",
   "metadata": {},
   "source": [
    "### Boolean Operators (and/or/not)\n",
    "We can also use [Boolean operators](https://docs.constellate.org/key-terms/#boolean-operator) (**and**/**or**/**not**) to create [expressions](https://docs.constellate.org/key-terms/#expression) that evaluate to a single [Boolean value](https://docs.constellate.org/key-terms/#boolean-value) (**True**/**False**).\n",
    "\n",
    "#### Using the Boolean Operator `and`\n",
    "The `and` operator determines whether *both* conditions are **True**."
   ]
  },
  {
   "cell_type": "code",
   "execution_count": null,
   "metadata": {},
   "outputs": [],
   "source": [
    "# If condition one is True AND condition two is True\n",
    "# What will the evaluation be?\n",
    "True and True"
   ]
  },
  {
   "cell_type": "code",
   "execution_count": null,
   "metadata": {},
   "outputs": [],
   "source": [
    "# If condition one is True AND condition two is False\n",
    "# What will the evaluation be?\n",
    "True and False"
   ]
  },
  {
   "cell_type": "markdown",
   "metadata": {},
   "source": [
    "In order for an ```and``` [expression](https://docs.constellate.org/key-terms/#expression) to evaluate to **True**, every condition must be **True**. Here is the \"Truth Table\" for every pair:\n",
    "\n",
    "|Expression|Evaluation|\n",
    "|---|---|\n",
    "|True and True|True|\n",
    "|True and False|False|\n",
    "|False and True|False|\n",
    "|False and False|False|\n",
    "\n",
    "Since `and` [expressions](https://docs.constellate.org/key-terms/#expression) require all conditions to be **True**, they can easily result in **False** evaluations.\n",
    "\n",
    "#### Using the Boolean Operator ```or```\n",
    "The ```or``` operator determines whether *any* condition is **True**."
   ]
  },
  {
   "cell_type": "code",
   "execution_count": null,
   "metadata": {},
   "outputs": [],
   "source": [
    "# Is expression one True OR is expression two True?\n",
    "True or False"
   ]
  },
  {
   "cell_type": "code",
   "execution_count": null,
   "metadata": {},
   "outputs": [],
   "source": [
    "# Is condition one True OR is condition two True?\n",
    "False or False"
   ]
  },
  {
   "cell_type": "markdown",
   "metadata": {},
   "source": [
    "An ```or``` [expression](https://docs.constellate.org/key-terms/#expression) evaluates to **True** if *any* condition is **True**. Here is the \"Truth Table\" for every pair:\n",
    "\n",
    "|Expression|Evaluation|\n",
    "|---|---|\n",
    "|True or True|True|\n",
    "|True or False|True|\n",
    "|False or True|True|\n",
    "|False or False|False|\n",
    "\n",
    "Since ```or``` [expressions](https://docs.constellate.org/key-terms/#expression) only require a single condition to be **True**, they can easily result in **True** evaluations.\n",
    "\n",
    "#### Using the Boolean Operator ```not```\n",
    "The```not``` operator only operates on a single expression, essentially flipping **True** to **False** or **False** to **True**. "
   ]
  },
  {
   "cell_type": "code",
   "execution_count": null,
   "metadata": {},
   "outputs": [],
   "source": [
    "# The not operator flips a True to False\n",
    "not False"
   ]
  },
  {
   "cell_type": "markdown",
   "metadata": {},
   "source": [
    "#### Combining Boolean and Comparison Operators\n",
    "\n",
    "We can combine [Boolean operators](https://docs.constellate.org/key-terms/#boolean-operator) and [comparison operators](https://docs.constellate.org/key-terms/#comparison-operator) to create even more nuanced **Truth** tests."
   ]
  },
  {
   "cell_type": "code",
   "execution_count": null,
   "metadata": {},
   "outputs": [],
   "source": [
    "# Evaluating two conditions with integers at once\n",
    "(3 < 22) and (60 == 34) # What does each condition evaluate to?"
   ]
  },
  {
   "cell_type": "code",
   "execution_count": null,
   "metadata": {},
   "outputs": [],
   "source": [
    "# Evaluating two conditions with integers at once\n",
    "(3 == 45) or (3 != 7) # What does each condition evaluate to?"
   ]
  },
  {
   "cell_type": "markdown",
   "metadata": {},
   "source": [
    "So far, we have evaluated one or two conditions at once, but we could compare even more at once. (In practice, this is  rare since it creates code that can be difficult to read.) [Boolean operators](https://docs.constellate.org/key-terms/#boolean-operator) also have an order of operations like mathematical [operators](https://docs.constellate.org/key-terms/#operator). They resolve in the order of `not`, `and`, then `or`."
   ]
  },
  {
   "cell_type": "markdown",
   "metadata": {},
   "source": [
    "## Writing a Flow Control Statement\n",
    "\n",
    "The general form of a [flow control statement](https://docs.constellate.org/key-terms/#flow-control-statement) in [Python](https://docs.constellate.org/key-terms/#python) is a condition followed by an action clause:\n",
    "\n",
    "`In this condition:`<br />\n",
    "&nbsp; &nbsp; &nbsp; &nbsp;`perform this action`\n",
    "\n",
    "Let's return to part of our flowchart for hanging out with friends.\n",
    "\n",
    "![Flowchart showing if homework is yes then do assignment](https://ithaka-labs.s3.amazonaws.com/static-files/images/tdm/tdmdocs/do_homework_chart.png)\n",
    "\n",
    "We can imagine a [flow control statement](https://docs.constellate.org/key-terms/#flow-control-statement) that would look something like:\n",
    "\n",
    "`if have_homework == True:`<br />\n",
    "&nbsp; &nbsp; &nbsp; &nbsp; `complete assignment`\n",
    "    \n",
    "The condition is given followed by a colon (:). The action clause then follows on the next line, indented into a [code block](https://docs.constellate.org/key-terms/#code-block).\n",
    "\n",
    "* If the condition is fulfilled (evaluates to **True**), the action clause in the block of code is executed. \n",
    "* If the condition is not fulfilled (evaluates to **False**), the action clause in the block of code is skipped over."
   ]
  },
  {
   "cell_type": "markdown",
   "metadata": {},
   "source": [
    "### Code Blocks\n",
    "A [code block](https://docs.constellate.org/key-terms/#code-block) is a snippet of code that begins with an indentation. A [code block](https://docs.constellate.org/key-terms/#code-block) can be a single line or many lines long. Blocks can contain other blocks forming a hierarchal structure. In such a case, the second block is indented an additional degree. Any given block ends when the number of indentations in the current line is less than the number that started the block.\n",
    "\n",
    "![Visualization of code block indentations](https://ithaka-labs.s3.amazonaws.com/static-files/images/tdm/tdmdocs/code_block_indentation.png)\n",
    "\n",
    "Since the level of indentation describes which code block will be executed, improper indentations will make your code crash. When using indentations to create code blocks, look carefully to make sure you are working in the code block you intend. Each indentation for a code block is created by pressing the tab key."
   ]
  },
  {
   "cell_type": "markdown",
   "metadata": {},
   "source": [
    "## Types of Flow Control Statements\n",
    "\n",
    "The code example above uses an `if` statement, but there are other kinds of [flow control statements](https://docs.constellate.org/key-terms/#flow-control-statement) available in [Python](https://docs.constellate.org/key-terms/#python).\n",
    "\n",
    "|Statement|Means|Condition for execution|\n",
    "|---|---|---|\n",
    "|`if`|if|if the condition is fulfilled|\n",
    "|`elif`|else if|if no previous conditions were met *and* this condition is met|\n",
    "|`else`|else|if no condition is met (no condition is supplied for an `else` statement)|\n",
    "|`while`|while|while condition is true|\n",
    "|`for`|for|execute in a loop for this many times|\n",
    "|`try`|try|try this and run the `except` code if an error occurs|\n",
    "\n",
    "Let's take a look at each of these [flow control statement](https://docs.constellate.org/key-terms/#flow-control-statement) types."
   ]
  },
  {
   "cell_type": "markdown",
   "metadata": {},
   "source": [
    "### `if` Statements\n",
    "\n",
    "An `if` statement begins with an [expression](https://docs.constellate.org/key-terms/#expression) that evaluates to **True** or **False**.\n",
    "\n",
    "* if **True**, then perform this action\n",
    "* if **False**, skip over this action\n",
    "\n",
    "In practice, the form looks like this:\n",
    "\n",
    "`if this is True:` <br />\n",
    "&nbsp; &nbsp; &nbsp; &nbsp; `perform this action`\n",
    "\n",
    "Let's put an `if` statement into practice with a very simple program that asks the user how their day is going and then responds. We can visualize the flow of the program in a flowchart.\n",
    "\n",
    "![Flowchart of a good day program](https://ithaka-labs.s3.amazonaws.com/static-files/images/tdm/tdmdocs/good_day_flowchart.png)\n",
    "\n",
    "Our program will use a single `if` statement. If the user types \"Yes\" or \"yes\", then our program will send a response."
   ]
  },
  {
   "cell_type": "code",
   "execution_count": null,
   "metadata": {},
   "outputs": [],
   "source": [
    "# A program that responds to a user having a good day\n",
    "having_good_day = input('Are you having a good day? (Yes or No) ') # Define a variable having_good_day to hold the user's input in a string\n",
    "\n",
    "if having_good_day == 'Yes' or having_good_day == 'yes':  # If the user has input the string 'Yes' or 'yes'\n",
    "    print('Glad to hear your day is going well!') # Print: Glad to hear your day is going well!"
   ]
  },
  {
   "cell_type": "markdown",
   "metadata": {},
   "source": [
    "Our program works fairly well so long as the user inputs 'Yes' or 'yes'. If they type 'no' or something else, it simply ends. If we want to have our program still respond, we can use an `else` statement."
   ]
  },
  {
   "cell_type": "markdown",
   "metadata": {},
   "source": [
    "### `else` Statements\n",
    "\n",
    "An `else` statement *does not require a condition* to evaluate to **True** or **False**. It simply executes when none of the previous conditions are met. The form looks like this:\n",
    "\n",
    "`else:` <br />\n",
    "&nbsp; &nbsp; &nbsp; &nbsp; `perform this action`\n",
    "\n",
    "Our updated flowchart now contains a second branch for our program.\n",
    "\n",
    "![The program flowchart with two branches](https://ithaka-labs.s3.amazonaws.com/static-files/images/tdm/tdmdocs/good_day_flowchart2.png)\n",
    "    \n"
   ]
  },
  {
   "cell_type": "code",
   "execution_count": null,
   "metadata": {},
   "outputs": [],
   "source": [
    "# A program that responds to whether the user is having a good or bad day\n",
    "having_good_day = input('Are you having a good day? (Yes or No) ') # Define a variable having_good_day to hold the user's input\n",
    "\n",
    "if having_good_day == 'Yes' or having_good_day == 'yes': # If the user has input the string 'Yes' or 'yes'\n",
    "    print('Glad to hear your day is going well!') # Print: Glad to hear your day is going well!\n",
    "    \n",
    "# Write an else statement here\n"
   ]
  },
  {
   "cell_type": "markdown",
   "metadata": {},
   "source": [
    "Our new program is more robust. The new `else` statement still gives the user a response if they do not respond \"Yes\" or \"yes\". But what if we wanted to add an option for when a user says \"No\"? Or when a user inputs something besides \"Yes\" or \"No\"? We could use a series of `elif` statements."
   ]
  },
  {
   "cell_type": "markdown",
   "metadata": {},
   "source": [
    "### `elif` Statements\n",
    "\n",
    "An `elif` statement, short for \"else if,\" allows us to create a list of possible conditions where one (and only one) action will be executed. `elif` statements come after an initial `if` statement and before an `else` statement:\n",
    "\n",
    "`if condition A is True:` <br />\n",
    "&nbsp; &nbsp; &nbsp; &nbsp; `perform action A` <br />\n",
    "`elif condition B is True:` <br />\n",
    "&nbsp; &nbsp; &nbsp; &nbsp; `perform action B` <br />\n",
    "`elif condition C is True:` <br />\n",
    "&nbsp; &nbsp; &nbsp; &nbsp; `perform action C` <br />\n",
    "`elif condition D is True:` <br />\n",
    "&nbsp; &nbsp; &nbsp; &nbsp; `perform action D` <br />\n",
    "`else:` <br />\n",
    "&nbsp; &nbsp; &nbsp; &nbsp;`perform action E`\n",
    "\n",
    "For example, we could add an `elif` statement to our program so it responds to both \"Yes\" and \"No\" with unique answers. We could then add an `else` statement that responds to any user input that is not \"Yes\" or \"No\".\n",
    "\n",
    "![Flowchart showing three branches](https://ithaka-labs.s3.amazonaws.com/static-files/images/tdm/tdmdocs/good_day_flowchart3.png)"
   ]
  },
  {
   "cell_type": "code",
   "execution_count": null,
   "metadata": {},
   "outputs": [],
   "source": [
    "# A program that responds to whether the user is having a good or bad day\n",
    "having_good_day = input('Are you having a good day? (Yes or No) ') # Define a variable having_good_day to hold the user's input\n",
    "\n",
    "if having_good_day == 'Yes' or having_good_day == 'yes': # If the user has input the string 'Yes' or 'yes'\n",
    "    print('Glad to hear your day is going well!') # Print: Glad to hear your day is going well!\n",
    "\n",
    "# Write an elif statement for having_good_day == 'No'\n",
    "\n",
    "\n",
    "# An else statement that catches if the answer is not 'yes' or 'no'\n",
    "else: # Execute this if none of the other branches executes\n",
    "    print('Sorry, I only understand \"Yes\" or \"No\"') # Note that we can use double quotations in our string because it begins and ends with single quotes"
   ]
  },
  {
   "cell_type": "markdown",
   "metadata": {},
   "source": [
    "#### The difference between`elif` and `if`?\n",
    "\n",
    "When an `elif` condition is met, all other `elif` statements are skipped over. This means that one (and only one) [flow control statement](https://docs.constellate.org/key-terms/#flow-control-statement) is executed when using `elif` statements. The fact that only one `elif` statement is executed is important because it may be possible for multiple [flow control statements](https://docs.constellate.org/key-terms/#flow-control-statement) to evaluate to **True**. A series of `elif` statements evaluates from top-to-bottom, only executing the first `elif` statement whose condition evaluates to **True**. The rest of the `elif` statements are skipped over (whether they are **True** or **False**).\n",
    "\n",
    "In practice, a set of mutually exclusive `if` statements will result in the same actions as an `if` statement followed by `elif` statements. There are a few good reasons, however, to use `elif` statements:\n",
    "\n",
    "1. A series of `elif` statements helps someone reading your code understand that a single flow control choice is being made.\n",
    "2. Using `elif` statements will make your program run faster since other conditional statements are skipped after the first evaluates to **True**. Otherwise, every `if` statement has to be evaluated before the program moves to the next step.\n",
    "3. Writing a mutually exclusive set of `if` statements can be very complex.\n",
    "\n",
    "In the previous code cell, try changing the `elif` to an `if`. Then answer the question with a \"Yes.\" You'll receive two responses! Why do you think that is?"
   ]
  },
  {
   "cell_type": "markdown",
   "metadata": {},
   "source": [
    "### `while` Loop Statements\n",
    "\n",
    "So far, we have used [flow control statements](https://docs.constellate.org/key-terms/#flow-control-statement) like decision-making branches to decide what action should be taken next. Sometimes, however, we want a particular action to loop (or repeat) until some condition is met. We can accomplish this with a `while` loop statement that takes the form:\n",
    "\n",
    "`while condition is True:` <br />\n",
    "&nbsp; &nbsp; &nbsp; &nbsp;`take this action`\n",
    "\n",
    "After the [code block](https://docs.constellate.org/key-terms/#code-block) is executed, the program loops back to check and see if the `while` loop condition has changed from **True** to **False**. The code block stops looping when the condition becomes **False**.\n",
    "\n",
    "In the following program, the user will guess a number until they get it correct. \n",
    "\n",
    "![flowchart for number-guessing program](https://ithaka-labs.s3.amazonaws.com/static-files/images/tdm/tdmdocs/guess_number_flowchart.png)"
   ]
  },
  {
   "cell_type": "code",
   "execution_count": null,
   "metadata": {
    "scrolled": true
   },
   "outputs": [],
   "source": [
    "# A program that asks the user to guess a number\n",
    "\n",
    "# The secret number is set here by the programmer.\n",
    "secret_number = str(4) # We convert the integer to a string to compare easily with a user input string\n",
    "\n",
    "# Ask the user to make a guess and take input in a string\n",
    "guess = input('I am thinking of a number between 1-10. Can you guess it? ') # Take the user's first guess\n",
    "\n",
    "# Check to see if the user guess matches our secret number\n",
    "while guess != secret_number: # While the users guess does not equal secret_number\n",
    "    guess = input('Nope. Guess again! ') # Allow the user to change the value of guess\n",
    "\n",
    "print('You guessed the secret number, ' + secret_number) # Print a congratulations message with the secret number"
   ]
  },
  {
   "cell_type": "markdown",
   "metadata": {},
   "source": [
    "#### Stopping Accidental Infinite Loops\n",
    "When using a `while` loop, it is possible to accidentally create an infinite loop that never ends. This happens because the `while` condition *never* becomes **False**. \n",
    "\n",
    "If you accidentally write code that infinitely repeats, you can stop the execution by selecting **Interrupt** from the **Kernel** menu. (Alternatively, you can press the letter **i** twice on your keyboard.) You may also want to remove the output of the rogue cell. You can do this from the **Cell** menu.\n",
    "* Clearing output from a single cell: **Cell** ▶ **Current Outputs** ▶ **Clear**\n",
    "* Clearing output from all cells: **Cell** ▶ **All Output** ▶ **Clear**\n",
    "\n",
    "![Clearing current outputs](https://ithaka-labs.s3.amazonaws.com/static-files/images/tdm/tdmdocs/clear_output.gif)"
   ]
  },
  {
   "cell_type": "code",
   "execution_count": null,
   "metadata": {},
   "outputs": [],
   "source": [
    "# Run this infinite loop then interrupt the kernel\n",
    "# Can you clear the cell output?\n",
    "while True:\n",
    "    print('Oh noes!')"
   ]
  },
  {
   "cell_type": "markdown",
   "metadata": {},
   "source": [
    "#### A Repeating `while` Loop\n",
    "\n",
    "In the program above, the `while` loop checked to see if the user guessed a particular number. We could also use a `while` loop to repeat a [code block](https://docs.constellate.org/key-terms/#code-block) a particular number of times."
   ]
  },
  {
   "cell_type": "code",
   "execution_count": null,
   "metadata": {},
   "outputs": [],
   "source": [
    "# A simple program that prints out 0, 1, 2\n",
    "i = 0 # A variable to help count how many loops have been completed\n",
    "\n",
    "while i < 3:\n",
    "    print(i)\n",
    "    i = i + 1 # We can also write an equivalent shortcut: i += 1"
   ]
  },
  {
   "cell_type": "markdown",
   "metadata": {},
   "source": [
    "### `for` Loop Statements with a `range()` Function\n",
    "\n",
    "An abbreviated way to write a `while` loop that repeats a specified number of times is using a `for` loop with a `range()` function. This loop takes the form:\n",
    "\n",
    "`for i in range(j):` <br />\n",
    "&nbsp; &nbsp; &nbsp; &nbsp;`take this action`\n",
    "    \n",
    "where `i` is a generic [variable](https://docs.constellate.org/key-terms/#variable) for counting the number of iterations and `j` is the number of times you want the [code block](https://docs.constellate.org/key-terms/#code-block) to repeat.\n",
    "\n",
    "The starting value of `i` is 0. After each loop, `i` increases by one until it reaches `j`. The loop then stops. The [variable](https://docs.constellate.org/key-terms/#variable) names `i` and `j` are merely conventions. Using a different name may make the purpose of your code clearer to readers."
   ]
  },
  {
   "cell_type": "code",
   "execution_count": null,
   "metadata": {},
   "outputs": [],
   "source": [
    "# A `for` loop that prints the value of the current iteration, here called `i`. \n",
    "for i in range(3):\n",
    "    print(i)"
   ]
  },
  {
   "cell_type": "markdown",
   "metadata": {},
   "source": [
    "Try your hand at a repeating loop. Write a program that prints \"What?\" five times."
   ]
  },
  {
   "cell_type": "code",
   "execution_count": null,
   "metadata": {},
   "outputs": [],
   "source": [
    "# A `for` loop that repeats 'What?'\n"
   ]
  },
  {
   "cell_type": "markdown",
   "metadata": {},
   "source": [
    "Try changing the variable name `i` to something else. What effect does that have on the program?"
   ]
  },
  {
   "cell_type": "markdown",
   "metadata": {},
   "source": [
    "### `Continue` and `Break` Statements\n",
    "`while` loops and `for` loops can also use `continue` and `break` statements to affect flow control. \n",
    "* A `continue` statement immediately restarts the loop.\n",
    "* A `break` statement immediately exits the loop.\n",
    "\n",
    "Let's return to our secret number guessing program. We will write the same program workflow using `continue` and `break` statements.\n",
    "\n",
    "![Flowchart for secret number guessing program](https://ithaka-labs.s3.amazonaws.com/static-files/images/tdm/tdmdocs/guess_number_flowchart.png)"
   ]
  },
  {
   "cell_type": "code",
   "execution_count": null,
   "metadata": {},
   "outputs": [],
   "source": [
    "# A program that asks the user to guess a number\n",
    "\n",
    "# Initialize the variables `guess` and `secret_number`\n",
    "guess = 0\n",
    "secret_number = str(4) # The secret number is set here by the programmer. Notice it is turned into a string so it can be easily compared with user inputs.\n",
    "\n",
    "# Ask the user to make a guess\n",
    "print('I am thinking of a number between 1-10.') \n",
    "\n",
    "# Test whether the user guess matches `secret_number`\n",
    "while True:\n",
    "    guess = input('What is your guess? ')\n",
    "    if guess == secret_number:\n",
    "        break\n",
    "    else:\n",
    "        continue\n",
    "        \n",
    "        \n",
    "# After loop ends, print a congratulations message with the secret number       \n",
    "print('You guessed the secret number, ' + secret_number) "
   ]
  },
  {
   "cell_type": "markdown",
   "metadata": {},
   "source": [
    "### Exception Handling with `try` and `except`\n",
    "\n",
    "When running code that may create an error, we can use `try` and `except` statements to stop a program from crashing."
   ]
  },
  {
   "cell_type": "code",
   "execution_count": null,
   "metadata": {},
   "outputs": [],
   "source": [
    "# Try running the first code block, if there's an error then run the `except` code\n",
    "\n",
    "try:\n",
    "    user_number = input('Please enter a whole number: ')\n",
    "    user_number = int(user_number)\n",
    "    print('Thank you for entering a whole number.')\n",
    "\n",
    "except:\n",
    "    print('That is not a whole number.')\n"
   ]
  },
  {
   "cell_type": "markdown",
   "metadata": {},
   "source": [
    "___\n",
    "<h2 style=\"color:red; display:inline\">Coding Challenge! &lt; / &gt; </h2>\n",
    "\n",
    "**Using your knowledge of flow control statements, can you write a program that asks a user for their name, then prints out a response depending on whether they are old enough to drive? Check the end of this notebook for example solutions.**\n",
    "___"
   ]
  },
  {
   "cell_type": "code",
   "execution_count": null,
   "metadata": {},
   "outputs": [],
   "source": [
    "# Level 1 Challenge\n",
    "\n",
    "# Ask the user for their name and store it in a variable `user_name`\n",
    "# Ask the user for their age and store it in a variable `user_age`\n",
    "# Write an if, elif, else statement that checks to see if the user is driving age.\n",
    "# If the user is driving age, print out \"user_name is old enough to drive.\"\n",
    "# If the user is not driving age, print out \"user_name is not old enough to drive.\""
   ]
  },
  {
   "cell_type": "code",
   "execution_count": null,
   "metadata": {},
   "outputs": [],
   "source": [
    "# Level 2 Challenge\n",
    "\n",
    "# Improve your flow control to consider whether the user has input a realistic age\n",
    "# If the user inputs an age over 120, print \"Is `user_name` a human or a turtle?\"\n",
    "# If the user inputs an age less than 5, print \"`user_name` is not even ready for a bicycle!\"\n"
   ]
  },
  {
   "cell_type": "code",
   "execution_count": null,
   "metadata": {},
   "outputs": [],
   "source": [
    "# Level 3 Challenge\n",
    "# A program that checks to see if a user is old enough to drive.\n",
    "# Verifies user has input a number and it is realistic.\n",
    "\n",
    "# Find a solution to address when a user enters text that is not a number."
   ]
  },
  {
   "cell_type": "code",
   "execution_count": null,
   "metadata": {},
   "outputs": [],
   "source": [
    "# Level 4 Challenge\n",
    "# A program that checks to see if a user is old enough to drive.\n",
    "# It checks to see whether the age entered is a valid number. \n",
    "# It also checks to see whether the age entered \n",
    "# is a realistic number (greater than 0 and less than 150)\n",
    "# If the user enters an age that is not a number or unrealistic, it prompts for a new age"
   ]
  },
  {
   "cell_type": "markdown",
   "metadata": {},
   "source": [
    "___\n",
    "## Lesson Complete\n",
    "Congratulations! You have completed *Python Basics 2*. There are three more lessons in *Python Basics*:\n",
    "\n",
    "* *Python Basics 3*\n",
    "* *Python Basics 4*\n",
    "* *Python Basics 5*\n",
    "\n",
    "\n",
    "### Coding Challenge! Solutions\n",
    "\n",
    "There are often many ways to solve programming problems. Here are a few possible ways to solve the challenges, but there are certainly more!"
   ]
  },
  {
   "cell_type": "code",
   "execution_count": null,
   "metadata": {},
   "outputs": [],
   "source": [
    "# Level 1 Solution\n",
    "# A program that checks to see if a user is old enough to drive.\n",
    "\n",
    "# Ask the user for their name and store it in a variable `user_name`\n",
    "# Ask the user for their age and store it in a variable `user_age`\n",
    "# Write an if, elif, else statement that checks to see if the user is driving age.\n",
    "# If the user is driving age, print out \"user_name is old enough to drive.\"\n",
    "# If the user is not driving age, print out \"user_name is not old enough to drive.\"\n",
    "\n",
    "user_name = input('What is your name? ')\n",
    "user_age = int(input('And what is your age? '))\n",
    "\n",
    "if user_age >= 16:\n",
    "    print(f'{user_name} is old enough to drive.')\n",
    "elif user_age < 16:\n",
    "    print(f'{user_name} is not old enough to drive.')"
   ]
  },
  {
   "cell_type": "code",
   "execution_count": null,
   "metadata": {},
   "outputs": [],
   "source": [
    "# Level 2 Solution\n",
    "# A program that checks to see if a user is old enough to drive.\n",
    "# Now with improved ability to check if the age number is realistic.\n",
    "\n",
    "# Improve your flow control to consider whether the user has input a realistic age\n",
    "# If the user inputs an age over 120, print \"Is `user_name` a human or a turtle?\"\n",
    "# If the user inputs an age less than 5, print \"`user_name` is not even ready for a bicycle!\"\n",
    "\n",
    "user_name = input('What is your name? ')\n",
    "user_age = int(input('And what is your age? '))\n",
    "\n",
    "if user_age > 120:\n",
    "    print(f'Is {user_name} a human or a turtle?')\n",
    "elif user_age < 5:\n",
    "    print(f'{user_name} is not even ready for a bicycle!')\n",
    "elif user_age >= 16:\n",
    "    print(f'{user_name} is old enough to drive.')\n",
    "elif user_age < 16:\n",
    "    print(f'{user_name} is not old enough to drive.')"
   ]
  },
  {
   "cell_type": "code",
   "execution_count": null,
   "metadata": {},
   "outputs": [],
   "source": [
    "# Level 3 Solution (using continue/break)\n",
    "# A program that checks to see if a user is old enough to drive.\n",
    "# Verifies user has input a number and it is realistic.\n",
    "\n",
    "# Find a solution to address when a user enters text that is not a number.\n",
    "\n",
    "user_name = input('What is your name? ')\n",
    "\n",
    "while True:\n",
    "    user_age = input('What is your age? ')\n",
    "    try:\n",
    "        user_age = int(user_age)\n",
    "        if user_age > 120:\n",
    "            print(f'Is {user_name} a human or a turtle?')\n",
    "        elif user_age < 5:\n",
    "            print(f'{user_name} is not even ready for a bicycle!')\n",
    "        elif user_age >= 16:\n",
    "            print(f'{user_name} is old enough to drive.')\n",
    "        elif user_age < 16:\n",
    "            print(f'{user_name} is not old enough to drive.')\n",
    "        break\n",
    "    except:\n",
    "        print('Please input a number for your age.')\n",
    "        continue"
   ]
  },
  {
   "cell_type": "code",
   "execution_count": null,
   "metadata": {},
   "outputs": [],
   "source": [
    "# Level 4 Challenge\n",
    "# A program that checks to see if a user is old enough to drive.\n",
    "# It checks to see whether the age entered is a valid number. \n",
    "# It also checks to see whether the age entered \n",
    "# is a realistic number (greater than 0 and less than 150)\n",
    "# If the user enters an age that is not a number or unrealistic, it prompts for a new age\n",
    "\n",
    "# Get user's age\n",
    "user_name = input('What is your name? ')\n",
    "\n",
    "# Check that age is a realistic number\n",
    "while True:\n",
    "    user_age = input('What is your age? ')\n",
    "    try:\n",
    "        user_age = int(user_age)\n",
    "        if user_age < 120 and user_age > 0:\n",
    "            break    \n",
    "        print('Please input a realistic number for your age.')\n",
    "        continue\n",
    "    except:\n",
    "        print('Please input an actual number for your age.')\n",
    "        continue\n",
    "\n",
    "# Respond to user's age      \n",
    "if user_age >= 16:\n",
    "    print(f'{user_name} is old enough to drive.')\n",
    "elif user_age < 16:\n",
    "    print(f'{user_name} is not old enough to drive.')\n",
    "\n",
    "    "
   ]
  },
  {
   "cell_type": "markdown",
   "metadata": {},
   "source": [
    "# Python Basics 3\n",
    "\n",
    "**Description:** \n",
    "This lesson describes the basics of [lists](https://docs.constellate.org/key-terms/#list) and [dictionaries](https://docs.constellate.org/key-terms/#dictionary) including:\n",
    "\n",
    "* The `in` and `not in` [operators](https://docs.constellate.org/key-terms/#operator)\n",
    "* [Lists](https://docs.constellate.org/key-terms/#list)\n",
    "* [List](https://docs.constellate.org/key-terms/#list) methods (`index()`, `append()`, `insert()`, `sort()`)\n",
    "* [Dictionaries](https://docs.constellate.org/key-terms/#dictionary)\n",
    "* [Dictionary](https://docs.constellate.org/key-terms/#dictionary) methods (`update()`, `keys()`, `values()`, `items()`, `get()`)\n",
    "\n",
    "This is part 3 of 5 in the series *Python Basics* that will prepare you to do text analysis using the [Python](https://docs.constellate.org/key-terms/#python) programming language.\n",
    "\n",
    "**Use Case:** For Learners (Detailed explanation, not ideal for researchers)\n",
    "\n",
    "\n",
    "\n",
    "**Knowledge Required:** \n",
    "* [Getting Started with Jupyter Notebooks](./getting-started-with-jupyter.ipynb)\n",
    "* [Python Basics 1](./python-basics-1.ipynb)\n",
    "* [Python Basics 2](./python-basics-2.ipynb)\n",
    "\n",
    "**Knowledge Recommended:** None\n",
    "\n",
    "**Data Format:** None\n",
    "\n",
    "**Libraries Used:** None\n",
    "\n",
    "**Research Pipeline:** None\n",
    "___"
   ]
  },
  {
   "cell_type": "markdown",
   "metadata": {},
   "source": [
    "In *Python Basics 1*, we learned about three data types: [integers](https://docs.constellate.org/key-terms/#integer), [floats](https://docs.constellate.org/key-terms/#float), and [strings](https://docs.constellate.org/key-terms/#string). In this lesson, we will learn about two additional data types: [lists](https://docs.constellate.org/key-terms/#list) and [dictionaries](https://docs.constellate.org/key-terms/#dictionary). [Lists](https://docs.constellate.org/key-terms/#list) and [dictionaries](https://docs.constellate.org/key-terms/#dictionary) help us store many values inside a single [variable](https://docs.constellate.org/key-terms/#variable). This is helpful for a few reasons.\n",
    "\n",
    "* We can store many items in a single [list](https://docs.constellate.org/key-terms/#list) or [dictionary](https://docs.constellate.org/key-terms/#dictionary), making it easier to keep the data together\n",
    "* [Lists](https://docs.constellate.org/key-terms/#list) and [dictionaries](https://docs.constellate.org/key-terms/#dictionary) only require a single [assignment state](https://docs.constellate.org/key-terms/#assignment-statement)\n",
    "* [Lists](https://docs.constellate.org/key-terms/#list) and [dictionaries](https://docs.constellate.org/key-terms/#dictionary) have additional capabilities that will make organizing our data easier\n",
    "\n",
    "The fundamental difference between a [list](https://docs.constellate.org/key-terms/#list) and a [dictionary](https://docs.constellate.org/key-terms/#dictionary) is that a [list](https://docs.constellate.org/key-terms/#list) stores items in sequential order (starting from 0) while a [dictionary](https://docs.constellate.org/key-terms/#dictionary) stores items in [key/value pairs](https://docs.constellate.org/key-terms/#key-value-pair). When we want to retrieve an item in a list, we use an [index number](https://docs.constellate.org/key-terms/#index-number) or a set of [index numbers](https://docs.constellate.org/key-terms/#index-number) called a [slice](https://docs.constellate.org/key-terms/#slice) as a reference. When we want to retrieve an item from a [dictionary](https://docs.constellate.org/key-terms/#dictionary), we supply a [key](https://docs.constellate.org/key-terms/#key-value-pair) that returns the [value](https://docs.constellate.org/key-terms/#key-value-pair) (or set of values) associated with that [key](https://docs.constellate.org/key-terms/#key-value-pair). Each of these approaches can be beneficial depending on what kind of data we are working with (and what we intend to do with the data)."
   ]
  },
  {
   "cell_type": "markdown",
   "metadata": {},
   "source": [
    "## Lists\n",
    "\n",
    "A [list](https://docs.constellate.org/key-terms/#list) can store anywhere from zero to millions of items. The items that can be stored in a [list](https://docs.constellate.org/key-terms/#list) include the data types we have already learned: [integers](https://docs.constellate.org/key-terms/#integer), [floats](https://docs.constellate.org/key-terms/#float), and [strings](https://docs.constellate.org/key-terms/#string). A [list](https://docs.constellate.org/key-terms/#list) [assignment state](https://docs.constellate.org/key-terms/#assignment-statement) takes the form.\n",
    "`my_list = [item1, item2, item3, item4...]`"
   ]
  },
  {
   "cell_type": "code",
   "execution_count": null,
   "metadata": {},
   "outputs": [],
   "source": [
    "# A list containing integers\n",
    "my_favorite_numbers = [7, 21, 100]\n",
    "print(my_favorite_numbers)"
   ]
  },
  {
   "cell_type": "code",
   "execution_count": null,
   "metadata": {},
   "outputs": [],
   "source": [
    "# A list containing strings\n",
    "my_inspirations = ['Harriet Tubman', 'Rosa Parks', 'Pauli Murray']\n",
    "print(my_inspirations)"
   ]
  },
  {
   "cell_type": "markdown",
   "metadata": {},
   "source": [
    "Both `my_favorite_numbers` and `my_inspirations` have three items, but we could have also initialized them with no items `my_favorite_numbers = []` or many more items. \n",
    "\n",
    "### List Index\n",
    "\n",
    "Each item has an [index number](https://docs.constellate.org/key-terms/#index-number) that depends on their order. The first item is 0, the second item is 1, the third item is 2, etc. In the `my_inspirations` list, `'Pauli Murray'` is item 2."
   ]
  },
  {
   "cell_type": "code",
   "execution_count": null,
   "metadata": {},
   "outputs": [],
   "source": [
    "# Retrieving an item in a list\n",
    "my_inspirations[2]"
   ]
  },
  {
   "cell_type": "markdown",
   "metadata": {},
   "source": [
    "___\n",
    "<h3 style=\"color:red; display:inline\">Try it! &lt; / &gt; </h3>\n",
    "\n",
    "**What happens if you change the index number to 1? What about 3? 2.0?**\n",
    "\n",
    "___\n",
    "\n",
    "\n",
    "[Lists](https://docs.constellate.org/key-terms/#list) can also contain other [lists](https://docs.constellate.org/key-terms/#list). To retrieve a value from a [list](https://docs.constellate.org/key-terms/#list) within a [list](https://docs.constellate.org/key-terms/#list), we use two [indexes](https://docs.constellate.org/key-terms/#index-number) (or indices)."
   ]
  },
  {
   "cell_type": "code",
   "execution_count": null,
   "metadata": {},
   "outputs": [],
   "source": [
    "# Retrieving an item from a list within a list\n",
    "my_inspirations = [['Harriet Tubman', 'Rosa Parks', 'Pauli Murray'], ['Martin Luther King Jr.', 'Frederick Douglass', 'Malcolm X']]\n",
    "my_inspirations[0][2]"
   ]
  },
  {
   "cell_type": "markdown",
   "metadata": {},
   "source": [
    "___\n",
    "<h3 style=\"color:red; display:inline\">Try it! &lt; / &gt; </h3>\n",
    "\n",
    "**Can you change the index for `my_inspirations` to retrieve `'Malcolm X'`?**\n",
    "___\n",
    "\n",
    "We can also select items from a [list](https://docs.constellate.org/key-terms/#list) beginning from the end/right side of a [list](https://docs.constellate.org/key-terms/#list) by using negative [index numbers](https://docs.constellate.org/key-terms/#index-number)."
   ]
  },
  {
   "cell_type": "code",
   "execution_count": null,
   "metadata": {},
   "outputs": [],
   "source": [
    "# Retrieving an item from the end of a list by using negative indices\n",
    "my_inspirations = ['Harriet Tubman', 'Rosa Parks', 'Pauli Murray']\n",
    "my_inspirations[-1]"
   ]
  },
  {
   "cell_type": "markdown",
   "metadata": {},
   "source": [
    "It is not uncommon for [lists](https://docs.constellate.org/key-terms/#list) to be hundreds or thousands of items long. It would be a chore to count all those items to create a [slice](https://docs.constellate.org/key-terms/#slice). If you want to know the length of a [list](https://docs.constellate.org/key-terms/#list), you can use the `len()` function."
   ]
  },
  {
   "cell_type": "code",
   "execution_count": null,
   "metadata": {},
   "outputs": [],
   "source": [
    "# Using the len() function to discover the number of items in the list\n",
    "staff = ['Aaron Aston',\n",
    "         'Brianna Barton',\n",
    "         'Carla Cameron',\n",
    "         'Delia Darcy',\n",
    "         'Evelyn Elgin',\n",
    "         'Frederick Federov',\n",
    "         'Gaston Garbo']\n",
    "len(staff)"
   ]
  },
  {
   "cell_type": "markdown",
   "metadata": {},
   "source": [
    "### Slicing a list\n",
    "We can also retrieve a group of consecutive items from a [list](https://docs.constellate.org/key-terms/#list) using [slices](https://docs.constellate.org/key-terms/#slice) instead of a single [index number](https://docs.constellate.org/key-terms/#index-number). We create a [slice](https://docs.constellate.org/key-terms/#slice) by indicating a starting and ending [index number](https://docs.constellate.org/key-terms/#index-number). The [slice](https://docs.constellate.org/key-terms/#slice) is a smaller [list](https://docs.constellate.org/key-terms/#list) containing all the items between our starting and stopping [index number](https://docs.constellate.org/key-terms/#index-number)."
   ]
  },
  {
   "cell_type": "code",
   "execution_count": null,
   "metadata": {},
   "outputs": [],
   "source": [
    "# Taking a slice of a list\n",
    "staff = ['Aaron Aston',\n",
    "         'Brianna Barton',\n",
    "         'Carla Cameron',\n",
    "         'Delia Darcy',\n",
    "         'Evelyn Elgin',\n",
    "         'Frederick Federov',\n",
    "         'Gaston Garbo']\n",
    "staff[1:3]"
   ]
  },
  {
   "cell_type": "markdown",
   "metadata": {},
   "source": [
    "Notice in our [slice](https://docs.constellate.org/key-terms/#slice) that the second [index](https://docs.constellate.org/key-terms/#index-number) in a [slice](https://docs.constellate.org/key-terms/#slice) is the stopping point. That is our return [list](https://docs.constellate.org/key-terms/#list) contains `staff[1]` (`'Brianna Barton'`) and `staff[2]` (`'Carla Cameron'`), but it does not include `staff[3]` (`'Delia Darcy'`). This can be confusing if you were expecting three items instead of two. One way to remember this is by subtracting the [indexes](https://docs.constellate.org/key-terms/#index-number) in your head (3 - 1 = 2 items)."
   ]
  },
  {
   "cell_type": "markdown",
   "metadata": {},
   "source": [
    "The `staff` [list](https://docs.constellate.org/key-terms/#list) is 7 items long, meaning the whole [list](https://docs.constellate.org/key-terms/#list) is within the [slice](https://docs.constellate.org/key-terms/#slice) `staff[0:7]`. When we take a [slice](https://docs.constellate.org/key-terms/#slice) of a [list](https://docs.constellate.org/key-terms/#list) we can also leave out the first [index number](https://docs.constellate.org/key-terms/#index-number) (0 is assumed) or the stopping [index number](https://docs.constellate.org/key-terms/#index-number) (the last item is assumed)."
   ]
  },
  {
   "cell_type": "code",
   "execution_count": null,
   "metadata": {},
   "outputs": [],
   "source": [
    "# Taking a slice of a list without a beginning index\n",
    "staff = ['Aaron Aston',\n",
    "         'Brianna Barton',\n",
    "         'Carla Cameron',\n",
    "         'Delia Darcy',\n",
    "         'Evelyn Elgin',\n",
    "         'Frederick Federov',\n",
    "         'Gaston Garbo']\n",
    "staff[0:7]"
   ]
  },
  {
   "cell_type": "markdown",
   "metadata": {},
   "source": [
    "___\n",
    "<h3 style=\"color:red; display:inline\">Try it! &lt; / &gt; </h3>\n",
    "\n",
    "**Can you take a [slice](https://docs.constellate.org/key-terms/#slice) from the staff [list](https://docs.constellate.org/key-terms/#list) without using a starting or ending [index number](https://docs.constellate.org/key-terms/#index-number)?**\n",
    "___\n"
   ]
  },
  {
   "cell_type": "markdown",
   "metadata": {},
   "source": [
    "### The `in` and `not in` Operators\n",
    "\n",
    "If we have a long [list](https://docs.constellate.org/key-terms/#list), it may be helpful to check whether a value is in the [list](https://docs.constellate.org/key-terms/#list). We can do this with the `in` and `not in` operators, which return a [boolean value](https://docs.constellate.org/key-terms/#boolean-value): **True** or **False**."
   ]
  },
  {
   "cell_type": "code",
   "execution_count": null,
   "metadata": {},
   "outputs": [],
   "source": [
    "# Checking whether an item is in a list using the `in` operator\n",
    "\n",
    "# Create a list called `staff`\n",
    "staff = ['Tara Richards',\n",
    " 'Tammy French',\n",
    " 'Justin Douglas',\n",
    " 'Lauren Marquez',\n",
    " 'Aaron Wilson',\n",
    " 'Dennis Howell',\n",
    " 'Brandon Reed',\n",
    " 'Kelly Baker',\n",
    " 'Justin Howard',\n",
    " 'Sarah Myers',\n",
    " 'Vanessa Burgess',\n",
    " 'Timothy Davidson',\n",
    " 'Jessica Lee',\n",
    " 'Christopher Miller',\n",
    " 'Lisa Grant',\n",
    " 'Ryan Chan',\n",
    " 'Gary Carson',\n",
    " 'Anthony Mitchell',\n",
    " 'Jacob Turner',\n",
    " 'Jennifer Bonilla',\n",
    " 'Rachel Gonzalez',\n",
    " 'Andrew Clark',\n",
    " 'Richard Pearson',\n",
    " 'Glenn Allen',\n",
    " 'Jacqueline Gallagher',\n",
    " 'Carlos Mcdowell',\n",
    " 'Jeffrey Harris',\n",
    " 'Danielle Griffith',\n",
    " 'Sarah Craig',\n",
    " 'Vernon Vasquez',\n",
    " 'Anthony Burton',\n",
    " 'Erica Bryant',\n",
    " 'Patricia Walker',\n",
    " 'Karen Brown',\n",
    " 'Terri Walker',\n",
    " 'Michelle Knight',\n",
    " 'Kathleen Douglas',\n",
    " 'Debbie Estrada',\n",
    " 'Jennifer Brewer',\n",
    " 'Taylor Rodriguez',\n",
    " 'Lisa Turner',\n",
    " 'Julie Hudson',\n",
    " 'Christina Cox',\n",
    " 'Nancy Patrick',\n",
    " 'Rita Mosley',\n",
    " 'Nicholas Gordon',\n",
    " 'Wanda Vasquez',\n",
    " 'Jason Lopez',\n",
    " 'Anna Powers',\n",
    " 'Tyler Perez']\n",
    "\n",
    "# Check whether a name is in staff\n",
    "'Patricia Walker' in staff"
   ]
  },
  {
   "cell_type": "markdown",
   "metadata": {},
   "source": [
    "___\n",
    "<h3 style=\"color:red; display:inline\">Try it! &lt; / &gt; </h3>\n",
    "\n",
    "**Is Rita McDowell in `staff`? What about Erica Bryant?**\n",
    "___"
   ]
  },
  {
   "cell_type": "markdown",
   "metadata": {},
   "source": [
    "We can change the value of any item in a [list](https://docs.constellate.org/key-terms/#list) using an [assignment statement](https://docs.constellate.org/key-terms/#assignment-statement) that contains the item's [index number](https://docs.constellate.org/key-terms/#index-number)."
   ]
  },
  {
   "cell_type": "code",
   "execution_count": null,
   "metadata": {},
   "outputs": [],
   "source": [
    "# Changing the value of an item in a list\n",
    "staff = ['Tara Richards', 'Tammy French', 'Justin Douglas']\n",
    "print(staff)\n",
    "\n",
    "# Changing an item using an assignment state with index number\n",
    "staff[1] = 'Tammy Simons'\n",
    "print(staff)\n"
   ]
  },
  {
   "cell_type": "markdown",
   "metadata": {},
   "source": [
    "Now we know how to change an item in a [list](https://docs.constellate.org/key-terms/#list). And can use the `in` and `not in` operator to determine if an item is in the [list](https://docs.constellate.org/key-terms/#list). But if we don't know the [index number](https://docs.constellate.org/key-terms/#index-number) of the item, we won't know which [index number](https://docs.constellate.org/key-terms/#index-number) to change. We need a way to pass both the name of the [list](https://docs.constellate.org/key-terms/#list) and the name of the item simultaneously to a [function](https://docs.constellate.org/key-terms/#function). To do that, we'll use a special kind of [function](https://docs.constellate.org/key-terms/#function) called a [method](https://docs.constellate.org/key-terms/#method)."
   ]
  },
  {
   "cell_type": "markdown",
   "metadata": {},
   "source": [
    "## List Methods\n",
    "\n",
    "A [method](https://docs.constellate.org/key-terms/#method) is a kind of [function](https://docs.constellate.org/key-terms/#function). (Remember, [functions](https://docs.constellate.org/key-terms/#function) end in parentheses.) [Methods](https://docs.constellate.org/key-terms/#method), however, act on objects (like [lists](https://docs.constellate.org/key-terms/#list)) so they have a slightly different written form. We will take a look at five useful [methods](https://docs.constellate.org/key-terms/#method) for working with [lists](https://docs.constellate.org/key-terms/#list).\n",
    "\n",
    "|Method Name | Purpose | Form |\n",
    "|---|---|---|\n",
    "|index()| search for an item in a list and return the index number | list_name.index(item_name)|\n",
    "|append()| add an item to the end of a list | list_name.append(item_name)|\n",
    "|insert()| insert an item in the middle of a list | list_name.insert(index_number, item_name)|\n",
    "|remove()| remove an item from a list based on value | list_name.remove('item_value')|\n",
    "|sort()| sort the order of a list | list_name.sort()|\n",
    "\n",
    "### The `index()` Method\n",
    "\n",
    "The `index()` [method](https://docs.constellate.org/key-terms/#method) checks to see if a value is in a [list](https://docs.constellate.org/key-terms/#list). If the value is found, it returns the [index number](https://docs.constellate.org/key-terms/#index-number) for the first item with that value. (Keep in mind, there could be multiple items with a single value in a [list](https://docs.constellate.org/key-terms/#list)). If the value is not found, the `index()` [method](https://docs.constellate.org/key-terms/#method) returns a `ValueError`."
   ]
  },
  {
   "cell_type": "code",
   "execution_count": null,
   "metadata": {},
   "outputs": [],
   "source": [
    "# Using the index() method to return the index number of an item by passing a value\n",
    "staff = ['Tara Richards',\n",
    " 'Tammy French',\n",
    " 'Justin Douglas',\n",
    " 'Lauren Marquez',\n",
    " 'Aaron Wilson',\n",
    " 'Dennis Howell',\n",
    " 'Brandon Reed',\n",
    " 'Kelly Baker',\n",
    " 'Justin Howard',\n",
    " 'Sarah Myers',\n",
    " 'Vanessa Burgess',\n",
    " 'Timothy Davidson',\n",
    " 'Jessica Lee',\n",
    " 'Christopher Miller',\n",
    " 'Lisa Grant',\n",
    " 'Ryan Chan',\n",
    " 'Gary Carson',\n",
    " 'Anthony Mitchell',\n",
    " 'Jacob Turner',\n",
    " 'Jennifer Bonilla',\n",
    " 'Rachel Gonzalez',\n",
    " 'Andrew Clark',\n",
    " 'Richard Pearson',\n",
    " 'Glenn Allen']\n",
    "\n",
    "# Find the index number of a list item\n",
    "staff.index('Jessica Lee')"
   ]
  },
  {
   "cell_type": "markdown",
   "metadata": {},
   "source": [
    "___\n",
    "<h3 style=\"color:red; display:inline\">Try it! &lt; / &gt; </h3>\n",
    "\n",
    "**What is the index number of Lisa Grant in `staff`?**\n",
    "___"
   ]
  },
  {
   "cell_type": "markdown",
   "metadata": {},
   "source": [
    "### The `append()` Method\n",
    "\n",
    "The `append()` [method](https://docs.constellate.org/key-terms/#method) adds a value to the end of a [list](https://docs.constellate.org/key-terms/#list)."
   ]
  },
  {
   "cell_type": "markdown",
   "metadata": {},
   "source": [
    "___\n",
    "<h3 style=\"color:red; display:inline\">Try it! &lt; / &gt; </h3>\n",
    "\n",
    "**Can you add your name to `staff`?**\n",
    "___"
   ]
  },
  {
   "cell_type": "code",
   "execution_count": null,
   "metadata": {},
   "outputs": [],
   "source": [
    "# Using the append() method to add an item to the end of a list\n",
    "staff = ['Tara Richards',\n",
    " 'Tammy French',\n",
    " 'Justin Douglas',\n",
    " 'Lauren Marquez',\n",
    " 'Aaron Wilson',\n",
    " 'Dennis Howell',\n",
    " 'Brandon Reed',\n",
    " 'Kelly Baker',\n",
    " 'Justin Howard',\n",
    " 'Sarah Myers',\n",
    " 'Vanessa Burgess',\n",
    " 'Timothy Davidson',\n",
    " 'Jessica Lee',\n",
    " 'Christopher Miller',\n",
    " 'Lisa Grant',\n",
    " 'Ryan Chan',\n",
    " 'Gary Carson',\n",
    " 'Anthony Mitchell',\n",
    " 'Jacob Turner',\n",
    " 'Jennifer Bonilla',\n",
    " 'Rachel Gonzalez',\n",
    " 'Andrew Clark',\n",
    " 'Richard Pearson',\n",
    " 'Glenn Allen']\n",
    "\n",
    "# Append a staff member to the list\n",
    "\n",
    "\n",
    "# Prints `staff` in a vertical list format to check that the name was added. \n",
    "# The list() function will print our list in an easier to read format than the print() function.\n",
    "list(staff) "
   ]
  },
  {
   "cell_type": "markdown",
   "metadata": {},
   "source": [
    "We can also add an item to the end of a [list](https://docs.constellate.org/key-terms/#list) by using an [assignment statement](https://docs.constellate.org/key-terms/#assignment-statement)."
   ]
  },
  {
   "cell_type": "code",
   "execution_count": null,
   "metadata": {},
   "outputs": [],
   "source": [
    "# Adding an item to a list using an assignment statement\n",
    "# We are concatenating two lists\n",
    "\n",
    "staff = staff + ['Dustin Henderson'] # Concatenate staff list with the list ['Dustin Henderson']\n",
    "list(staff)"
   ]
  },
  {
   "cell_type": "markdown",
   "metadata": {},
   "source": [
    "### The `insert()` Method\n",
    "\n",
    "The `insert()` [method](https://docs.constellate.org/key-terms/#method) is similar to `append()` but it takes an [argument](https://docs.constellate.org/key-terms/#argument) that lets us choose an [index number](https://docs.constellate.org/key-terms/#index-number) to insert the new item."
   ]
  },
  {
   "cell_type": "code",
   "execution_count": null,
   "metadata": {},
   "outputs": [],
   "source": [
    "# Using the insert() method to add an item at a specific index number\n",
    "staff = ['Tara Richards',\n",
    " 'Tammy French',\n",
    " 'Justin Douglas',\n",
    " 'Lauren Marquez',\n",
    " 'Aaron Wilson',\n",
    " 'Dennis Howell',\n",
    " 'Brandon Reed',\n",
    " 'Kelly Baker',\n",
    " 'Justin Howard',\n",
    " 'Sarah Myers',\n",
    " 'Vanessa Burgess',\n",
    " 'Timothy Davidson',\n",
    " 'Jessica Lee',\n",
    " 'Christopher Miller',\n",
    " 'Lisa Grant',\n",
    " 'Ryan Chan',\n",
    " 'Gary Carson',\n",
    " 'Anthony Mitchell',\n",
    " 'Jacob Turner',\n",
    " 'Jennifer Bonilla',\n",
    " 'Rachel Gonzalez',\n",
    " 'Andrew Clark',\n",
    " 'Richard Pearson',\n",
    " 'Glenn Allen']\n",
    "\n",
    "staff.insert(5, 'Arya Stark') # Insert the name 'Arya Stark' at index 5 (The sixth name on the list)\n",
    "list(staff) # Prints `staff` to check that the name was added at the right spot"
   ]
  },
  {
   "cell_type": "markdown",
   "metadata": {},
   "source": [
    "___\n",
    "<h3 style=\"color:red; display:inline\">Try it! &lt; / &gt; </h3>\n",
    "\n",
    "**Can you make your name the third item on `staff`?**\n",
    "___"
   ]
  },
  {
   "cell_type": "markdown",
   "metadata": {},
   "source": [
    "### The `remove()` Method\n",
    "\n",
    "The `remove()` [method](https://docs.constellate.org/key-terms/#method) removes the first item from the [list](https://docs.constellate.org/key-terms/#list) that has a matching value."
   ]
  },
  {
   "cell_type": "code",
   "execution_count": null,
   "metadata": {},
   "outputs": [],
   "source": [
    "# Using the remove() method to remove the first item with a matching value\n",
    "staff = ['Tara Richards',\n",
    " 'Tammy French',\n",
    " 'Justin Douglas',\n",
    " 'Lauren Marquez',\n",
    " 'Aaron Wilson',\n",
    " 'Dennis Howell',\n",
    " 'Brandon Reed',\n",
    " 'Kelly Baker',\n",
    " 'Justin Howard',\n",
    " 'Sarah Myers',\n",
    " 'Vanessa Burgess',\n",
    " 'Timothy Davidson',\n",
    " 'Jessica Lee',\n",
    " 'Christopher Miller',\n",
    " 'Lisa Grant',\n",
    " 'Ryan Chan',\n",
    " 'Gary Carson',\n",
    " 'Anthony Mitchell',\n",
    " 'Jacob Turner',\n",
    " 'Jennifer Bonilla',\n",
    " 'Rachel Gonzalez',\n",
    " 'Andrew Clark',\n",
    " 'Richard Pearson',\n",
    " 'Glenn Allen']\n",
    "# Write your remove statement under this comment\n",
    "\n",
    "# Print `staff` to check that the name was removed\n",
    "list(staff) "
   ]
  },
  {
   "cell_type": "markdown",
   "metadata": {},
   "source": [
    "___\n",
    "<h3 style=\"color:red; display:inline\">Try it! &lt; / &gt; </h3>\n",
    "\n",
    "**Can you remove Glenn Allen from `staff`?**\n",
    "___"
   ]
  },
  {
   "cell_type": "markdown",
   "metadata": {},
   "source": [
    "If you know the value you wish to remove then the `remove()` [method](https://docs.constellate.org/key-terms/#method) is the best option. If you know the [index number](https://docs.constellate.org/key-terms/#index-number) of the item, you can use a `del` statement to delete [list](https://docs.constellate.org/key-terms/#list) items."
   ]
  },
  {
   "cell_type": "code",
   "execution_count": null,
   "metadata": {},
   "outputs": [],
   "source": [
    "# Using a `del` statement to delete a list item\n",
    "staff = ['Tara Richards',\n",
    " 'Tammy French',\n",
    " 'Justin Douglas',\n",
    " 'Lauren Marquez',\n",
    " 'Aaron Wilson',\n",
    " 'Dennis Howell',\n",
    " 'Brandon Reed',\n",
    " 'Kelly Baker',\n",
    " 'Justin Howard',\n",
    " 'Sarah Myers',\n",
    " 'Vanessa Burgess',\n",
    " 'Timothy Davidson',\n",
    " 'Jessica Lee',\n",
    " 'Christopher Miller',\n",
    " 'Lisa Grant',\n",
    " 'Ryan Chan',\n",
    " 'Gary Carson',\n",
    " 'Anthony Mitchell',\n",
    " 'Jacob Turner',\n",
    " 'Jennifer Bonilla',\n",
    " 'Rachel Gonzalez',\n",
    " 'Andrew Clark',\n",
    " 'Richard Pearson',\n",
    " 'Glenn Allen']\n",
    "del staff[-1] # Delete the final item in the list. In this case, 'Glenn Allen'.\n",
    "list(staff)"
   ]
  },
  {
   "cell_type": "markdown",
   "metadata": {},
   "source": [
    "### The `sort()` Method\n",
    "\n",
    "The `sort()` [method](https://docs.constellate.org/key-terms/#method) sorts a [list](https://docs.constellate.org/key-terms/#list) in alphabetical order, where strings with capital letters are sorted A-Z, then strings with lowercase letters are sorted A-Z."
   ]
  },
  {
   "cell_type": "code",
   "execution_count": null,
   "metadata": {},
   "outputs": [],
   "source": [
    "# Using the `sort()` method to sort a list in alpha-numeric order\n",
    "staff = ['Tara Richards',\n",
    " 'Tammy French',\n",
    " 'Justin Douglas',\n",
    " 'Lauren Marquez',\n",
    " 'Aaron Wilson',\n",
    " 'Dennis Howell',\n",
    " 'Brandon Reed',\n",
    " 'Kelly Baker',\n",
    " 'Justin Howard',\n",
    " 'Sarah Myers',\n",
    " 'Vanessa Burgess',\n",
    " 'Timothy Davidson',\n",
    " 'Jessica Lee',\n",
    " 'Christopher Miller',\n",
    " 'Lisa Grant',\n",
    " 'Ryan Chan',\n",
    " 'Gary Carson',\n",
    " 'Anthony Mitchell',\n",
    " 'Jacob Turner',\n",
    " 'Jennifer Bonilla',\n",
    " 'Rachel Gonzalez',\n",
    " 'Andrew Clark',\n",
    " 'Richard Pearson',\n",
    " 'Glenn Allen']\n",
    "staff.sort(reverse = True)\n",
    "list(staff)"
   ]
  },
  {
   "cell_type": "markdown",
   "metadata": {},
   "source": [
    "___\n",
    "<h3 style=\"color:red; display:inline\">Try it! &lt; / &gt; </h3>\n",
    "\n",
    "**The `sort()` method can take the argument `reverse=True`. Try applying it to the `sort()` method above. What does it do?**\n",
    "___"
   ]
  },
  {
   "cell_type": "markdown",
   "metadata": {},
   "source": [
    "___\n",
    "<h2 style=\"color:red; display:inline\">Coding Challenge! &lt; / &gt; </h2>\n",
    "\n",
    "**Using your knowledge of flow control statements and lists, can you write a program that transforms a list of strings into a single string of comma-separated values? Check the end of this notebook for possible solutions.\n",
    "___"
   ]
  },
  {
   "cell_type": "code",
   "execution_count": null,
   "metadata": {},
   "outputs": [],
   "source": [
    "# Level 1 Challenge\n",
    "# A challenge to transform a list of books into a single string of comma-separated values\n",
    "# The result should be the string: 'Piers Plowman, The Canterbury Tales, Revelations of Divine Love, The Decameron, Le Morte d'Arthur'\n",
    "book_list = ['Piers Plowman', 'The Canterbury Tales', 'Revelations of Divine Love', 'The Decameron', \"Le Morte d'Arthur\"]\n",
    "\n",
    "# Level 2 Challenge\n",
    "# For even more challenge, transform a list of lists containing books and authors into a single string of comma-separated values with an 'and' before the final value. Oxford comma please.\n",
    "# The result should be the string: 'Piers Plowman by William Langland, The Canterbury Tales by Geoffrey Chaucer, Revelations of Divine Love by Julian of Norwich, The Decameron by Giovanni Boccaccio, and Le Morte d'Arthur by Sir Thomas Malory'\n",
    "\n",
    "books_with_authors = [['Piers Plowman', 'William Langland'], ['The Canterbury Tales', 'Geoffrey Chaucer'], ['Revelations of Divine Love', 'Julian of Norwich'], ['The Decameron', 'Giovanni Boccaccio'], [\"Le Morte d'Arthur\", 'Sir Thomas Malory']]\n",
    "\n"
   ]
  },
  {
   "cell_type": "markdown",
   "metadata": {},
   "source": [
    "## Dictionaries\n",
    "\n",
    "Like a [list](https://docs.constellate.org/key-terms/#list), a [dictionary](https://docs.constellate.org/key-terms/#dictionary) can hold many values within a single [variable](https://docs.constellate.org/key-terms/#variable). We have seen that the items of a [list](https://docs.constellate.org/key-terms/#list) are stored in a strictly-ordered fashion, starting from item 0. In a [dictionary](https://docs.constellate.org/key-terms/#dictionary), each [value](https://docs.constellate.org/key-terms/#key-value-pair) is stored in relation to a descriptive [key](https://docs.constellate.org/key-terms/#key-value-pair) forming a [key/value pair](https://docs.constellate.org/key-terms/#key-value-pair). Technically, as of [Python](https://docs.constellate.org/key-terms/#python) 3.7 (June 2018), [dictionaries](https://docs.constellate.org/key-terms/#dictionary) are also ordered by insertion. In practice, however, the most useful aspect of a [dictionary](https://docs.constellate.org/key-terms/#dictionary) is the ability to supply a [key](https://docs.constellate.org/key-terms/#key-value-pair) and receive a [value](https://docs.constellate.org/key-terms/#key-value-pair) without reference to [indices](https://docs.constellate.org/key-terms/#index-number). Whereas a [list](https://docs.constellate.org/key-terms/#list) is typed with brackets `[]`, a [dictionary](https://docs.constellate.org/key-terms/#dictionary) is typed with braces `{}`. The [key](https://docs.constellate.org/key-terms/#key-value-pair) and/or [value](https://docs.constellate.org/key-terms/#key-value-pair) can be an [integer](https://docs.constellate.org/key-terms/#integer), [float](https://docs.constellate.org/key-terms/#float), or [string](https://docs.constellate.org/key-terms/#string).\n",
    "\n",
    "`example_dictionary = {key1 : value1, key2 : value2, key3 : value3}`\n",
    "\n",
    "We could imagine, for example, a [dictionary](https://docs.constellate.org/key-terms/#dictionary) with our professional contacts' names as [keys](https://docs.constellate.org/key-terms/#key-value-pair) and their occupations as [values](https://docs.constellate.org/key-terms/#key-value-pair)."
   ]
  },
  {
   "cell_type": "code",
   "execution_count": null,
   "metadata": {},
   "outputs": [],
   "source": [
    "# An example of a dictionary storing names and occupations\n",
    "contacts ={\n",
    " 'Amanda Bennett': 'Engineer, electrical',\n",
    " 'Bryan Miller': 'Radiation protection practitioner',\n",
    " 'Christopher Garrison': 'Planning and development surveyor',\n",
    " 'Debra Allen': 'Intelligence analyst',\n",
    " 'Donna Decker': 'Architect',\n",
    " 'Heather Bullock': 'Media planner',\n",
    " 'Jason Brown': 'Energy manager',\n",
    " 'Jason Soto': 'Lighting technician, broadcasting/film/video',\n",
    " 'Marissa Munoz': 'Further education lecturer',\n",
    " 'Matthew Mccall': 'Chief Technology Officer',\n",
    " 'Michael Norman': 'Translator',\n",
    " 'Nicole Leblanc': 'Financial controller',\n",
    " 'Noah Delgado': 'Engineer, land',\n",
    " 'Rachel Charles': 'Physicist, medical',\n",
    " 'Stephanie Petty': 'Architect'}\n",
    "from pprint import pprint # We import the pretty print function which prints out dictionaries in a neater fashion than the built-in print() function\n",
    "pprint(contacts) # Use the pretty print function to print `contacts`"
   ]
  },
  {
   "cell_type": "markdown",
   "metadata": {},
   "source": [
    "We can add a new [key/value pair](https://docs.constellate.org/key-terms/#key-value-pair) to our [dictionary](https://docs.constellate.org/key-terms/#dictionary) using an [assignment statement](https://docs.constellate.org/key-terms/#assignment-statement)."
   ]
  },
  {
   "cell_type": "code",
   "execution_count": null,
   "metadata": {},
   "outputs": [],
   "source": [
    "# Adding the key 'Nathan Kelber' with the value 'Constellate Education Manager' to the dictionary contact\n",
    "contacts['Nathan Kelber'] = 'Constellate Education Manager'\n",
    "\n",
    "pprint(contacts) # Use the pretty print function to print `contacts`"
   ]
  },
  {
   "cell_type": "markdown",
   "metadata": {},
   "source": [
    "___\n",
    "<h3 style=\"color:red; display:inline\">Try it! &lt; / &gt; </h3>\n",
    "\n",
    "**Can you add your name to the contacts dictionary?**\n",
    "___"
   ]
  },
  {
   "cell_type": "markdown",
   "metadata": {},
   "source": [
    "Similar to deleting an item from a [list](https://docs.constellate.org/key-terms/#list), we can use a `del` statement to delete a [key/value pair](https://docs.constellate.org/key-terms/#key-value-pair)."
   ]
  },
  {
   "cell_type": "code",
   "execution_count": null,
   "metadata": {},
   "outputs": [],
   "source": [
    "# Deleting a key/value pair from the dictionary contacts\n",
    "del contacts['Bryan Miller'] \n",
    "\n",
    "pprint(contacts) # Use the pretty print function to print `contacts`"
   ]
  },
  {
   "cell_type": "markdown",
   "metadata": {},
   "source": [
    "## Dictionary Methods\n",
    "\n",
    "We'll take a look at five useful [methods](https://docs.constellate.org/key-terms/#method) for working with [dictionaries](https://docs.constellate.org/key-terms/#dictionary): `update()`, `keys()`, `values()`, `items()`, and `get()`.\n",
    "\n",
    "|Method Name | Purpose | Form |\n",
    "|---|---|---|\n",
    "|update()| add new key/value pairs to a dictionary | dict_name.update(\\[(key1, value1), (key2, value2)])|\n",
    "| &nbsp; | combine two dictionaries |dict_name.update(dict_name2)|\n",
    "|keys()| check if a key is in a dictionary (True/False) | key_name in dict_name.keys()|\n",
    "| &nbsp; | Loop through the keys in a dictionary | for k in dict.keys():|\n",
    "|values()| check if a value is in a dictionary (True/False) | value_name in dict_name.values()|\n",
    "| &nbsp;| Loop through the values in a dictionary | for v in dict.values():|\n",
    "|items()| Loop through the keys and values in a dictionary | for k, v in dict.items():|\n",
    "|get()| retrieve the value for a specific key | dict_name.get(key_name) |"
   ]
  },
  {
   "cell_type": "markdown",
   "metadata": {},
   "source": [
    "### The `update()` Method\n",
    "\n",
    "The `update()` [method](https://docs.constellate.org/key-terms/#method) is useful for adding many [key/value pairs](https://docs.constellate.org/key-terms/#key-value-pair) to a [dictionary](https://docs.constellate.org/key-terms/#dictionary) at once. The `update()` [method](https://docs.constellate.org/key-terms/#method) accepts a single [key/value pair](https://docs.constellate.org/key-terms/#key-value-pair), multiple pairs, or even other [dictionaries](https://docs.constellate.org/key-terms/#dictionary)."
   ]
  },
  {
   "cell_type": "code",
   "execution_count": null,
   "metadata": {},
   "outputs": [],
   "source": [
    "# Add a single key/value pair to the dictionary contacts using the update() method\n",
    "contacts.update(\n",
    "    {'Nathan Kelber': 'Constellate Education Manager'}\n",
    ")\n",
    "\n",
    "pprint(contacts) # Use the pretty print function to print `contacts`"
   ]
  },
  {
   "cell_type": "code",
   "execution_count": null,
   "metadata": {},
   "outputs": [],
   "source": [
    "# Adding several key/value pairs to the dictionary contacts using the update() method\n",
    "contacts.update(\n",
    "    {\"Matt Lincoln\": \"Software Engineer\",\n",
    "     'Ian DesJardins': 'Software Engineer'}\n",
    ")\n",
    "\n",
    "pprint(contacts) # Use the pretty print function to print `contacts`"
   ]
  },
  {
   "cell_type": "markdown",
   "metadata": {},
   "source": [
    "### The `keys()` and `values()` Methods\n",
    "\n",
    "The `keys()`, `values()`, and `items()` [methods](https://docs.constellate.org/key-terms/#method) are useful for when checking whether a particular [key](https://docs.constellate.org/key-terms/#key-value-pair) or [value](https://docs.constellate.org/key-terms/#key-value-pair) exists in a [dictionary](https://docs.constellate.org/key-terms/#dictionary). We can pair them with `in` or `not in` operators to check whether a value is in our [dictionary](https://docs.constellate.org/key-terms/#dictionary) (just like we did with [lists](https://docs.constellate.org/key-terms/#list))."
   ]
  },
  {
   "cell_type": "code",
   "execution_count": null,
   "metadata": {},
   "outputs": [],
   "source": [
    "# Checking whether a string exists within a key, value, or both.\n",
    "contacts ={\n",
    " 'Amanda Bennett': 'Engineer, electrical',\n",
    " 'Bryan Miller': 'Radiation protection practitioner',\n",
    " 'Christopher Garrison': 'Planning and development surveyor',\n",
    " 'Debra Allen': 'Intelligence analyst',\n",
    " 'Donna Decker': 'Architect',\n",
    " 'Heather Bullock': 'Media planner',\n",
    " 'Jason Brown': 'Energy manager',\n",
    " 'Jason Soto': 'Lighting technician, broadcasting/film/video',\n",
    " 'Marissa Munoz': 'Further education lecturer',\n",
    " 'Matthew Mccall': 'Chief Technology Officer',\n",
    " 'Michael Norman': 'Translator',\n",
    " 'Nicole Leblanc': 'Financial controller',\n",
    " 'Noah Delgado': 'Engineer, land',\n",
    " 'Rachel Charles': 'Physicist, medical',\n",
    " 'Stephanie Petty': 'Architect'}\n",
    "\n",
    "pprint(contacts)"
   ]
  },
  {
   "cell_type": "code",
   "execution_count": null,
   "metadata": {},
   "outputs": [],
   "source": [
    "# Checking if the value Architect is in the contacts dictionary\n",
    "# Do I know an architect?\n",
    "'Noah Delgado' in contacts.keys()"
   ]
  },
  {
   "cell_type": "markdown",
   "metadata": {},
   "source": [
    "### The `get()` Method\n",
    "\n",
    "If we are sure a [key](https://docs.constellate.org/key-terms/#key-value-pair) exists, we can use:\n",
    "\n",
    "`dict_name[key_name]` "
   ]
  },
  {
   "cell_type": "code",
   "execution_count": null,
   "metadata": {},
   "outputs": [],
   "source": [
    "# Return a value for a particular key\n",
    "contacts['Noah Delgado']\n"
   ]
  },
  {
   "cell_type": "markdown",
   "metadata": {},
   "source": [
    "However, if the [key](https://docs.constellate.org/key-terms/#key-value-pair) is not found, the result will be a `KeyError`. The more robust approach is to use the `get()` [method](https://docs.constellate.org/key-terms/#method). If the [key](https://docs.constellate.org/key-terms/#key-value-pair) is not found, the `None` value will be returned. (Optionally, we can also specify a default message to return.)\n",
    "\n",
    "`dict_name.get('key_name', 'key_not_found_message')`"
   ]
  },
  {
   "cell_type": "code",
   "execution_count": null,
   "metadata": {},
   "outputs": [],
   "source": [
    "# Using the get() method to retrieve the value for the key 'Marissa Munoz'\n",
    "contacts.get('Marissa Munoz')"
   ]
  },
  {
   "cell_type": "markdown",
   "metadata": {},
   "source": [
    "___\n",
    "<h3 style=\"color:red; display:inline\">Try it! &lt; / &gt; </h3>\n",
    "\n",
    "**Try searching for a name not in contacts with `contacts[name]` and then with `contacts.get('name', 'No contact with that name')`**\n",
    "___"
   ]
  },
  {
   "cell_type": "markdown",
   "metadata": {},
   "source": [
    "### Combining `keys()`, `values()`, and `items()` with Flow Control Statements\n",
    "\n",
    "It is often usful to combine `for` loops with the keys(), values(), or items() [methods](https://docs.constellate.org/key-terms/#method) to repeat a task for each entry in a [dictionary](https://docs.constellate.org/key-terms/#dictionary)."
   ]
  },
  {
   "cell_type": "code",
   "execution_count": null,
   "metadata": {},
   "outputs": [],
   "source": [
    "# Print every key in our contacts dictionary\n",
    "for name in contacts.keys(): # The variable `name` could be any variable name we choose\n",
    "    print(name)"
   ]
  },
  {
   "cell_type": "code",
   "execution_count": null,
   "metadata": {},
   "outputs": [],
   "source": [
    "# Print every value in our contacts dictionary\n",
    "for occupation in contacts.values(): # The variable `occupation` here could be any variable name we choose\n",
    "    print(occupation)"
   ]
  },
  {
   "cell_type": "code",
   "execution_count": null,
   "metadata": {},
   "outputs": [],
   "source": [
    "# Print every key and value in our contacts dictionary\n",
    "for name, occupation in contacts.items():\n",
    "    print(f'Name: {name} | Occupation: {occupation}')"
   ]
  },
  {
   "cell_type": "markdown",
   "metadata": {},
   "source": [
    "___\n",
    "<h2 style=\"color:red; display:inline\">Coding Challenge! &lt; / &gt; </h2>\n",
    "\n",
    "**Using your knowledge of flow control statements and dictionaries, can you write a program that lists all the architects in your contacts? Check the end of this notebook for possible solutions.\n",
    "___"
   ]
  },
  {
   "cell_type": "code",
   "execution_count": null,
   "metadata": {},
   "outputs": [],
   "source": [
    "# Level 1 Challenge\n",
    "# A challenge to search a contacts dictionary and output any individuals who are architects. The result\n",
    "# should contain the name of any contacts who are architects.\n",
    "\n",
    "contacts ={\n",
    " 'Amanda Bennett': 'Engineer, electrical',\n",
    " 'Bryan Miller': 'Radiation protection practitioner',\n",
    " 'Christopher Garrison': 'Planning and development surveyor',\n",
    " 'Debra Allen': 'Intelligence analyst',\n",
    " 'Donna Decker': 'Architect',\n",
    " 'Heather Bullock': 'Media planner',\n",
    " 'Jason Brown': 'Energy manager',\n",
    " 'Jason Soto': 'Lighting technician, broadcasting/film/video',\n",
    " 'Marissa Munoz': 'Further education lecturer',\n",
    " 'Matthew Mccall': 'Chief Technology Officer',\n",
    " 'Michael Norman': 'Translator',\n",
    " 'Nicole Leblanc': 'Financial controller',\n",
    " 'Noah Delgado': 'Engineer, land',\n",
    " 'Rachel Charles': 'Physicist, medical',\n",
    " 'Stephanie Petty': 'Architect'}\n",
    "\n",
    "# Write your solution here. Example solutions at the end of this notebook.\n"
   ]
  },
  {
   "cell_type": "code",
   "execution_count": null,
   "metadata": {},
   "outputs": [],
   "source": [
    "# Level 2 Challenge\n",
    "# From the dictionary called contacts, create a Python list called `leads` containing the names of people \n",
    "# who are architects, translators, or media planners.\n"
   ]
  },
  {
   "cell_type": "markdown",
   "metadata": {},
   "source": [
    "___\n",
    "## Lesson Complete\n",
    "Congratulations! You have completed *Python Basics 3*. There are two more lessons in *Python Basics*:\n",
    "\n",
    "* *Python Basics 4*\n",
    "* *Python Basics 5*\n",
    "\n",
    "### Start Next Lesson: [Python Basics 4](./python-basics-4.ipynb)"
   ]
  },
  {
   "cell_type": "markdown",
   "metadata": {},
   "source": [
    "### Coding Challenge! Solutions\n",
    "\n",
    "There are often many ways to solve programming problems. Here are a few possible ways to solve the challenges, but there are certainly more!\n",
    "\n",
    "#### Lists Challenge Level 1\n",
    "\n",
    "Transform a list of books into a single string of comma-separated values. Using the list:\n",
    "\n",
    "`book_list = ['Piers Plowman', 'The Canterbury Tales', 'Revelations of Divine Love', 'The Decameron', \"Le Morte d'Arthur\"]`\n",
    "\n",
    "Print the string:\n",
    "`'Piers Plowman, The Canterbury Tales, Revelations of Divine Love, The Decameron, Le Morte d'Arthur'`"
   ]
  },
  {
   "cell_type": "code",
   "execution_count": null,
   "metadata": {},
   "outputs": [],
   "source": [
    "# Assign list to book_list\n",
    "book_list = ['Piers Plowman',\n",
    "  'The Canterbury Tales', \n",
    "  'Revelations of Divine Love', \n",
    "  'The Decameron', \n",
    "  \"Le Morte d'Arthur\"]"
   ]
  },
  {
   "cell_type": "code",
   "execution_count": null,
   "metadata": {},
   "outputs": [],
   "source": [
    "# Solution 1a\n",
    "# For loop\n",
    "\n",
    "for book in book_list: \n",
    "    print(book + ', ', end='')"
   ]
  },
  {
   "cell_type": "code",
   "execution_count": null,
   "metadata": {},
   "outputs": [],
   "source": [
    "# Solution 1b\n",
    "# For loop with f strings\n",
    "\n",
    "for book in book_list:\n",
    "    print(f'{book}, ', end = '')"
   ]
  },
  {
   "cell_type": "code",
   "execution_count": null,
   "metadata": {},
   "outputs": [],
   "source": [
    "# Solution 2 \n",
    "# For i in range()\n",
    "\n",
    "for i in range(len(book_list) - 1):\n",
    "    print(book_list[i] + ', ', end='')\n",
    "print(book_list[-1])"
   ]
  },
  {
   "cell_type": "code",
   "execution_count": null,
   "metadata": {},
   "outputs": [],
   "source": [
    "# Solution 3\n",
    "# While loop\n",
    "\n",
    "# While loop\n",
    "i=0\n",
    "while i < (len(book_list) - 1):\n",
    "    print(book_list[i] + ', ', end='')\n",
    "    i += 1\n",
    "print(book_list[-1])"
   ]
  },
  {
   "cell_type": "code",
   "execution_count": null,
   "metadata": {},
   "outputs": [],
   "source": [
    "# Solution 4\n",
    "# String join method\n",
    "# (We did not learn this join method, but it does exactly what we want)\n",
    "print(', '.join(book_list))"
   ]
  },
  {
   "cell_type": "markdown",
   "metadata": {},
   "source": [
    "#### Lists Challenge Level 2\n",
    "\n",
    "Transform a list of lists containing books and authors into a single string of comma-separated values with an 'and' before the final value. Oxford comma please.\n",
    "\n",
    "Using the list:\n",
    "\n",
    "`[['Piers Plowman', 'William Langland'], ['The Canterbury Tales', 'Geoffrey Chaucer'], ['Revelations of Divine Love', 'Julian of Norwich'], ['The Decameron', 'Giovanni Boccaccio'], [\"Le Morte d'Arthur\", 'Sir Thomas Malory']]`\n",
    "\n",
    "Print the string:\n",
    "\n",
    "`'Piers Plowman by William Langland, The Canterbury Tales by Geoffrey Chaucer, Revelations of Divine Love by Julian of Norwich, The Decameron by Giovanni Boccaccio, and Le Morte d'Arthur by Sir Thomas Malory'`\n",
    "\n"
   ]
  },
  {
   "cell_type": "code",
   "execution_count": null,
   "metadata": {},
   "outputs": [],
   "source": [
    "# Assign list to books_with_authors\n",
    "books_with_authors = [['Piers Plowman', 'William Langland'],\n",
    "  ['The Canterbury Tales', 'Geoffrey Chaucer'], \n",
    "  ['Revelations of Divine Love', 'Julian of Norwich'], \n",
    "  ['The Decameron', 'Giovanni Boccaccio'], \n",
    "  [\"Le Morte d'Arthur\", 'Sir Thomas Malory']]"
   ]
  },
  {
   "cell_type": "code",
   "execution_count": null,
   "metadata": {},
   "outputs": [],
   "source": [
    "# Solution 1a\n",
    "# For loop\n",
    "for b in books_with_authors[:-1]:\n",
    "    print(b[0] + ' by ' + b[1] + ', ', end='')\n",
    "print('and ' + books_with_authors[-1][0] + ' by ' + books_with_authors[-1][1])"
   ]
  },
  {
   "cell_type": "code",
   "execution_count": null,
   "metadata": {},
   "outputs": [],
   "source": [
    "#Solution 1b\n",
    "# For loop with f strings\n",
    "for book_item in books_with_authors[:-1]:\n",
    "    print(f'{book_item[0]} by {book_item[1]}, ', end ='')\n",
    "print(f'and {books_with_authors[-1][0]} by {books_with_authors[-1][1]}')"
   ]
  },
  {
   "cell_type": "code",
   "execution_count": null,
   "metadata": {},
   "outputs": [],
   "source": [
    "# Solution 2\n",
    "# For i in range()\n",
    "\n",
    "for i in range(len(books_with_authors) - 1):\n",
    "    print(books_with_authors[i][0] + ' by ' + books_with_authors[i][1] + ', ', end='')\n",
    "print('and ' + books_with_authors[-1][0] + ' by ' + books_with_authors[-1][1])"
   ]
  },
  {
   "cell_type": "code",
   "execution_count": null,
   "metadata": {},
   "outputs": [],
   "source": [
    "# Solution 3\n",
    "# While loop\n",
    "i=0\n",
    "while i < (len(books_with_authors) - 1):\n",
    "    print(books_with_authors[i][0] + ' by ' + books_with_authors[i][1] + ', ', end='')\n",
    "    i += 1\n",
    "print('and ' + books_with_authors[-1][0] + ' by ' + books_with_authors[-1][1])"
   ]
  },
  {
   "cell_type": "code",
   "execution_count": null,
   "metadata": {},
   "outputs": [],
   "source": [
    "# Solution 4\n",
    "# String join method \n",
    "# (We did not learn this method, but it does exactly what we want.)\n",
    "\n",
    "new_list = []\n",
    "for b in books_with_authors[:-1]:\n",
    "    new_list.append(str(b[0] + ' by ' + b[1]))\n",
    "\n",
    "print(', '.join(new_list) + ', and ' + books_with_authors[-1][0] + ' by ' + books_with_authors[-1][1])"
   ]
  },
  {
   "cell_type": "markdown",
   "metadata": {},
   "source": [
    "#### Dictionaries Challenge Level 1"
   ]
  },
  {
   "cell_type": "code",
   "execution_count": null,
   "metadata": {},
   "outputs": [],
   "source": [
    "# Level 1 Challenge Solution\n",
    "# A challenge to search a contacts dictionary and output any individuals who are architects. The result\n",
    "# should contain the name of any contacts who are architects.\n",
    "\n",
    "contacts ={\n",
    " 'Amanda Bennett': 'Engineer, electrical',\n",
    " 'Bryan Miller': 'Radiation protection practitioner',\n",
    " 'Christopher Garrison': 'Planning and development surveyor',\n",
    " 'Debra Allen': 'Intelligence analyst',\n",
    " 'Donna Decker': 'Architect',\n",
    " 'Heather Bullock': 'Media planner',\n",
    " 'Jason Brown': 'Energy manager',\n",
    " 'Jason Soto': 'Lighting technician, broadcasting/film/video',\n",
    " 'Marissa Munoz': 'Further education lecturer',\n",
    " 'Matthew Mccall': 'Chief Technology Officer',\n",
    " 'Michael Norman': 'Translator',\n",
    " 'Nicole Leblanc': 'Financial controller',\n",
    " 'Noah Delgado': 'Engineer, land',\n",
    " 'Rachel Charles': 'Physicist, medical',\n",
    " 'Stephanie Petty': 'Architect'}\n",
    "\n",
    "# Write your solution here. Example solutions at the end of this notebook.\n",
    "\n",
    "for name, occupation in contacts.items():\n",
    "    if occupation == 'Architect':\n",
    "        print(name)"
   ]
  },
  {
   "cell_type": "markdown",
   "metadata": {},
   "source": [
    "#### Dictionaries Challenge Level 2"
   ]
  },
  {
   "cell_type": "code",
   "execution_count": null,
   "metadata": {},
   "outputs": [],
   "source": [
    "# Level 2 Challenge\n",
    "# From the dictionary called contacts, create a Python list called `leads` containing the names of people \n",
    "# who are architects, translators, or media planners.\n",
    "leads = []\n",
    "\n",
    "for name, occupation in contacts.items():\n",
    "    if occupation == 'Architect' or occupation == 'Translator' or occupation =='Media planner':\n",
    "        leads.append(name)\n",
    "\n",
    "print(leads)"
   ]
  }
 ],
 "metadata": {
  "kernelspec": {
   "display_name": "Python 3 (ipykernel)",
   "language": "python",
   "name": "python3"
  },
  "language_info": {
   "codemirror_mode": {
    "name": "ipython",
    "version": 3
   },
   "file_extension": ".py",
   "mimetype": "text/x-python",
   "name": "python",
   "nbconvert_exporter": "python",
   "pygments_lexer": "ipython3",
   "version": "3.9.7"
  },
  "toc": {
   "base_numbering": 1,
   "nav_menu": {},
   "number_sections": true,
   "sideBar": true,
   "skip_h1_title": true,
   "title_cell": "Table of Contents",
   "title_sidebar": "Contents",
   "toc_cell": false,
   "toc_position": {},
   "toc_section_display": true,
   "toc_window_display": false
  },
  "toc-autonumbering": false,
  "toc-showcode": false,
  "toc-showmarkdowntxt": false,
  "toc-showtags": false
 },
 "nbformat": 4,
 "nbformat_minor": 4
}
