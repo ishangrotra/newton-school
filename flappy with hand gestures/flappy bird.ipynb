{
 "cells": [
  {
   "cell_type": "markdown",
   "metadata": {},
   "source": [
    "## Gesture Controlled Flappy Bird Project\n",
    "\n",
    "### Project Overview:\n",
    "This project creates a gesture-controlled version of the classic **Flappy Bird** game using **Pygame** for game rendering, **OpenCV** for accessing webcam input, and **MediaPipe** for detecting hand gestures. The player controls the bird using **thumbs-up** and **thumbs-down** gestures to make the bird jump or fall, respectively, while avoiding obstacles (pipes).\n",
    "\n",
    "### Steps Involved:\n",
    "\n",
    "1. **Importing Libraries**:\n",
    "   - **OpenCV (cv2)**: Used to capture video input from the webcam and convert image formats.\n",
    "   - **MediaPipe (mp)**: Provides hand tracking and gesture recognition.\n",
    "   - **Pygame**: Used for creating the game interface, rendering the bird, pipes, and handling game mechanics.\n",
    "   - **Sys and Random**: System-related operations and generating random numbers for pipe positioning.\n",
    "\n",
    "2. **Initializing the Game**:\n",
    "   - Pygame is initialized, and the window size is set to **640x480** pixels.\n",
    "   - Colors like **white**, **black**, **green**, and **red** are defined for easy reference.\n",
    "   - The bird's starting position, size, gravity, and speed parameters are set.\n",
    "   - Pipe dimensions and speed are defined, with pipes appearing randomly from the top and bottom of the screen.\n",
    "\n",
    "3. **MediaPipe for Hand Tracking**:\n",
    "   - The **MediaPipe Hands** solution is initialized to track hand landmarks in real-time from webcam input.\n",
    "   - Functions like `is_thumbs_up` and `is_thumbs_down` are used to determine if the player is showing a thumbs-up or thumbs-down gesture, controlling the bird's vertical movement.\n",
    "\n",
    "4. **Game Mechanics**:\n",
    "   - **Bird Movement**: The bird's vertical position changes based on gravity or the player's gesture. A thumbs-up gesture makes the bird jump, while a thumbs-down gesture makes it fall.\n",
    "   - **Pipes and Collision Detection**: Pipes are generated at random heights, and the bird must fly between them to avoid collisions. If the bird collides with a pipe or the screen borders, the game resets.\n",
    "   - **Score System**: The player's score increases each time the bird successfully passes between pipes. The score and the highest score are displayed at the top of the screen.\n",
    "\n",
    "5. **Gesture Detection with MediaPipe**:\n",
    "   - The game uses real-time hand gesture detection to control the bird's movement:\n",
    "     - **Thumbs Up**: The bird jumps upwards.\n",
    "     - **Thumbs Down**: The bird falls faster than normal gravity.\n",
    "   - Hand landmarks are drawn on the video feed for visual feedback during the game.\n",
    "\n",
    "6. **Game Interface**:\n",
    "   - The bird is rendered as an image, and pipes are represented by rectangles.\n",
    "   - A \"Play\" button is shown at the beginning of the game to start, and a \"Replay\" button is shown when the game ends, allowing the player to restart the game.\n",
    "\n",
    "7. **Score Display and Sounds**:\n",
    "   - The current score and highest score are displayed on the screen.\n",
    "   - Sound effects are played when passing through pipes, achieving a high score, or colliding with an obstacle.\n",
    "\n",
    "8. **Blurred Background**:\n",
    "   - A background effect is created by blurring the webcam feed to create a smooth background while displaying the game elements over it.\n",
    "\n",
    "9. **Saving and Loading High Scores**:\n",
    "   - The game saves the highest score to a file (`highest_score.txt`) and loads it at the start of each game session. This ensures that the highest score is preserved across multiple games.\n",
    "\n",
    "### How the Game Works:\n",
    "\n",
    "1. **Start the Game**:\n",
    "   - The player starts by clicking the \"Play\" button rendered on the screen.\n",
    "   \n",
    "2. **Gesture Control**:\n",
    "   - The webcam captures video input, and MediaPipe tracks the player’s hand gestures.\n",
    "   - Showing a **thumbs-up** gesture makes the bird jump, while a **thumbs-down** gesture makes the bird fall faster.\n",
    "   - The bird also falls naturally due to gravity when no gesture is detected.\n",
    "\n",
    "3. **Avoiding Obstacles**:\n",
    "   - The player must control the bird’s flight through gaps between randomly positioned pipes.\n",
    "   - Colliding with a pipe or flying off the screen ends the game.\n",
    "\n",
    "4. **Scoring**:\n",
    "   - The player earns points by successfully navigating between the pipes. If the player beats their previous high score, it is saved and displayed during future sessions.\n",
    "\n",
    "5. **Game Over and Replay**:\n",
    "   - Upon game over, a \"Replay\" button is displayed, allowing the player to start over. The game resets, and the bird and pipes return to their initial positions.\n",
    "\n",
    "### Key Components:\n",
    "\n",
    "- **Pygame**: Handles the game window, bird and pipe rendering, and game logic.\n",
    "- **OpenCV**: Captures the webcam feed, converts color formats, and displays the hand gesture video feed in a separate window.\n",
    "- **MediaPipe**: Tracks hand landmarks and detects thumb gestures, allowing for gesture-based bird control.\n",
    "\n",
    "### Usage:\n",
    "1. Install necessary libraries like **Pygame**, **OpenCV**, and **MediaPipe**.\n",
    "2. Provide the paths for:\n",
    "   - A **bird image** (`bird.png`) for rendering the bird.\n",
    "   - Sound effects (e.g., crash, pass, wow sounds).\n",
    "3. Run the script and use your webcam to control the bird with hand gestures.\n",
    "4. Avoid obstacles by using **thumbs-up** to jump and **thumbs-down** to fall.\n",
    "\n",
    "### Possible Extensions:\n",
    "- Add more gestures for additional control (e.g., fist to pause the game).\n",
    "- Introduce different difficulty levels with faster pipe movement.\n",
    "- Implement multiplayer support by recognizing multiple hand gestures simultaneously.\n"
   ]
  },
  {
   "cell_type": "markdown",
   "metadata": {},
   "source": [
    "# Importing Required Libraries\n",
    "This section imports the necessary libraries for the application:\n",
    "- **OpenCV (`cv2`)**: Used for image processing and capturing video from the webcam.\n",
    "- **MediaPipe (`mp`)**: A library by Google for building cross-platform, customizable ML solutions for live and streaming media. Here, it is specifically used for hand tracking.\n",
    "- **Pygame**: A set of Python modules designed for writing video games, handling graphics, sounds, and user input.\n",
    "- **`sys`**: Provides access to system-specific parameters and functions. It is used here to exit the program cleanly.\n",
    "- **`random`**: Used to generate random numbers, particularly for creating random positions for the game elements like pipes.\n"
   ]
  },
  {
   "cell_type": "code",
   "execution_count": 2,
   "metadata": {},
   "outputs": [],
   "source": [
    "import cv2                 # OpenCV library for image processing\n",
    "import mediapipe as mp     # MediaPipe for hand tracking\n",
    "import pygame              # Pygame library for game development\n",
    "import sys                 # System-specific parameters and functions\n",
    "import random              # Random number generation\n"
   ]
  },
  {
   "cell_type": "markdown",
   "metadata": {},
   "source": [
    "# Initializing MediaPipe for Hand Tracking\n",
    "This block sets up MediaPipe's hand detection capabilities.\n",
    "- **`mp_hands`**: Accesses the hand tracking solution from MediaPipe.\n",
    "- **`hands`**: Creates an instance of the Hands model which will process the video feed to detect hands.\n",
    "- **`mp_drawing`**: A utility for drawing landmarks and connections on detected hands in the images.\n"
   ]
  },
  {
   "cell_type": "code",
   "execution_count": null,
   "metadata": {},
   "outputs": [],
   "source": [
    "mp_hands = mp.solutions.hands               # Access MediaPipe's hand solution\n",
    "hands = mp_hands.Hands()                     # Create a Hands object for hand detection\n",
    "mp_drawing = mp.solutions.drawing_utils      # Utility for drawing hand landmarks\n"
   ]
  },
  {
   "cell_type": "markdown",
   "metadata": {},
   "source": [
    "# Setting Up Pygame\n",
    "This section initializes Pygame and sets up the game window:\n",
    "- **`pygame.init()`**: Initializes all imported Pygame modules.\n",
    "- **`width, height`**: Defines the dimensions of the game window.\n",
    "- **`screen`**: Creates the game window with the specified dimensions.\n",
    "- **`pygame.display.set_caption`**: Sets the title of the game window.\n",
    "- **`clock`**: Creates a Clock object to manage the game's frame rate.\n"
   ]
  },
  {
   "cell_type": "code",
   "execution_count": null,
   "metadata": {},
   "outputs": [],
   "source": [
    "pygame.init()                                  # Initialize all Pygame modules\n",
    "width, height = 640, 480                      # Define the dimensions of the game window\n",
    "screen = pygame.display.set_mode((width, height))  # Create the game window\n",
    "pygame.display.set_caption('Gesture Controlled Flappy Bird')  # Set the title\n",
    "clock = pygame.time.Clock()                   # Create a clock object for frame rate control\n"
   ]
  },
  {
   "cell_type": "markdown",
   "metadata": {},
   "source": [
    "# Defining Colors\n",
    "Here, color constants are defined using RGB tuples for later use in rendering various game elements and text.\n",
    "- **White**: (255, 255, 255)\n",
    "- **Black**: (0, 0, 0)\n",
    "- **Green**: (0, 255, 0)\n",
    "- **Red**: (255, 0, 0)\n"
   ]
  },
  {
   "cell_type": "code",
   "execution_count": null,
   "metadata": {},
   "outputs": [],
   "source": [
    "white = (255, 255, 255)  # Define color for white\n",
    "black = (0, 0, 0)        # Define color for black\n",
    "green = (0, 255, 0)      # Define color for green\n",
    "red = (255, 0, 0)        # Define color for red\n"
   ]
  },
  {
   "cell_type": "markdown",
   "metadata": {},
   "source": [
    "# Initializing Game Variables\n",
    "This block initializes variables necessary for the game mechanics:\n",
    "- **Bird Attributes**:\n",
    "  - **`bird_width, bird_height`**: Dimensions of the bird.\n",
    "  - **`bird_x, bird_y`**: Initial position of the bird on the screen.\n",
    "  - **`bird_speed_y`**: Vertical speed of the bird, initialized to zero.\n",
    "  - **`gravity`**: Simulates the effect of gravity on the bird, pulling it down.\n",
    "  - **`jump_speed`**: Speed applied when the bird jumps (moves upwards).\n",
    "  - **`fall_speed`**: Speed applied when the bird falls (moves downwards).\n",
    "\n",
    "- **Bird Image**:\n",
    "  - Loads the bird image from a file and converts it to a format suitable for Pygame.\n",
    "  - Scales the image to 50x50 pixels for consistent rendering.\n"
   ]
  },
  {
   "cell_type": "code",
   "execution_count": null,
   "metadata": {},
   "outputs": [],
   "source": [
    "bird_width, bird_height = 40, 30            # Dimensions of the bird\n",
    "bird_x, bird_y = 100, height // 2           # Initial position of the bird\n",
    "bird_speed_y = 0                             # Initial vertical speed of the bird\n",
    "gravity = 1                                   # Gravity affecting the bird\n",
    "jump_speed = -10                             # Speed for jumping upwards\n",
    "fall_speed = 10                              # Speed for falling downwards\n",
    "\n",
    "bird_image = pygame.image.load(\"bird.png\").convert_alpha()  # Load the bird image\n",
    "bird_image = pygame.transform.scale(bird_image, (50, 50))   # Scale the image\n"
   ]
  },
  {
   "cell_type": "markdown",
   "metadata": {},
   "source": [
    "# Initializing Pipe Variables\n",
    "This section initializes the variables related to the game pipes:\n",
    "- **Pipe Attributes**:\n",
    "  - **`pipe_width, pipe_height`**: Dimensions of the pipes.\n",
    "  - **`pipe_gap`**: The vertical space between the top and bottom pipes that the bird must navigate through.\n",
    "  - **`pipe_speed`**: Horizontal speed at which pipes move left across the screen.\n",
    "  - **`pipe_x`**: Initial horizontal position of the pipe (set to the width of the window).\n",
    "  - **`pipe_y`**: Random vertical position ensuring the gap is within the screen boundaries, generated at game start.\n"
   ]
  },
  {
   "cell_type": "code",
   "execution_count": null,
   "metadata": {},
   "outputs": [],
   "source": [
    "pipe_width = 60                              # Width of the pipes\n",
    "pipe_height = 300                            # Height of the pipes\n",
    "pipe_gap = 200                               # Vertical gap between pipes\n",
    "pipe_speed = 5                               # Speed at which pipes move\n",
    "pipe_x = width                               # Initial horizontal position of pipes\n",
    "pipe_y = random.randint(pipe_gap, height - pipe_gap)  # Random vertical position for pipes\n"
   ]
  },
  {
   "cell_type": "markdown",
   "metadata": {},
   "source": [
    "# Score and Sound Initialization\n",
    "In this block, score variables and sound effects are initialized:\n",
    "- **Score Variables**:\n",
    "  - **`score`**: Tracks the current score of the game.\n",
    "  - **`highest_score`**: Tracks the highest score achieved during gameplay.\n",
    "\n",
    "- **Font and Sounds**:\n",
    "  - **`font`**: Initializes a font object for rendering text on the screen.\n",
    "  - **`pygame.mixer.init()`**: Initializes the mixer module for playing sound effects.\n",
    "  - **`beep_sound`, `pass_sound`, `wow_sound`**: Loads sound effects for different events in the game.\n"
   ]
  },
  {
   "cell_type": "code",
   "execution_count": null,
   "metadata": {},
   "outputs": [],
   "source": [
    "score = 0                                     # Current score of the game\n",
    "highest_score = 0                             # Highest score achieved\n",
    "font = pygame.font.SysFont(None, 35)         # Create a font object for score display\n",
    "pygame.mixer.init()                           # Initialize the mixer for sound effects\n",
    "beep_sound = pygame.mixer.Sound(\"crash.mp3\") # Load sound for crashing\n",
    "pass_sound = pygame.mixer.Sound(\"pass.mp3\")  # Load sound for passing a pipe\n",
    "wow_sound = pygame.mixer.Sound(\"wow.mp3\")    # Load sound for achieving a new highest score\n"
   ]
  },
  {
   "cell_type": "markdown",
   "metadata": {},
   "source": [
    "# Function to Display Scores\n",
    "This function renders and displays the current score and the highest score at the top-left corner of the game window.\n",
    "- **`score_text`**: Creates a rendered surface with the score information.\n",
    "- **`screen.blit`**: Draws the rendered text on the game screen at specified coordinates.\n"
   ]
  },
  {
   "cell_type": "code",
   "execution_count": null,
   "metadata": {},
   "outputs": [],
   "source": [
    "def show_score(score, highest_score):\n",
    "    score_text = font.render(f\"Score: {score} | Highest Score: {highest_score}\", True, black)  # Render score text\n",
    "    screen.blit(score_text, (10, 10))  # Display score text at (10, 10) position\n"
   ]
  },
  {
   "cell_type": "markdown",
   "metadata": {},
   "source": [
    "# Function to Detect Thumbs Up Gesture\n",
    "This function checks if the detected hand gesture is a thumbs up.\n",
    "- It compares the vertical positions of the thumb tip, thumb MCP (metacarpophalangeal joint), and the index finger tip.\n",
    "- Returns `True` if the thumb tip is above both the MCP and index finger tip; otherwise, it returns `False`.\n"
   ]
  },
  {
   "cell_type": "code",
   "execution_count": null,
   "metadata": {},
   "outputs": [],
   "source": [
    "def is_thumbs_up(hand_landmarks):\n",
    "    thumb_tip = hand_landmarks.landmark[mp_hands.HandLandmark.THUMB_TIP]  # Get thumb tip landmark\n",
    "    thumb_mcp = hand_landmarks.landmark[mp_hands.HandLandmark.THUMB_MCP]   # Get thumb MCP landmark\n",
    "    index_tip = hand_landmarks.landmark[mp_hands.HandLandmark.INDEX_FINGER_TIP]  # Get index finger tip landmark\n",
    "\n",
    "    # Check if thumb is above MCP and index tip\n",
    "    return thumb_tip.y < thumb_mcp.y and thumb_tip.y < index_tip.y\n"
   ]
  },
  {
   "cell_type": "markdown",
   "metadata": {},
   "source": [
    "# Function to Detect Thumbs Down Gesture\n",
    "This function checks if the detected hand gesture is a thumbs down.\n",
    "- Similar to the thumbs up detection, but checks if the thumb tip is below both the MCP and index finger tip.\n"
   ]
  },
  {
   "cell_type": "code",
   "execution_count": null,
   "metadata": {},
   "outputs": [],
   "source": [
    "def is_thumbs_down(hand_landmarks):\n",
    "    thumb_tip = hand_landmarks.landmark[mp_hands.HandLandmark.THUMB_TIP]  # Get thumb tip landmark\n",
    "    thumb_mcp = hand_landmarks.landmark[mp_hands.HandLandmark.THUMB_MCP]   # Get thumb MCP landmark\n",
    "    index_tip = hand_landmarks.landmark[mp_hands.HandLandmark.INDEX_FINGER_TIP]  # Get index finger tip landmark\n",
    "\n",
    "    # Check if thumb is below MCP and index tip\n",
    "    return thumb_tip.y > thumb_mcp.y and thumb_tip.y > index_tip.y\n"
   ]
  },
  {
   "cell_type": "markdown",
   "metadata": {},
   "source": [
    "# Function to Draw Play Button\n",
    "This function draws a play button on the screen:\n",
    "- A polygon representing the button shape.\n",
    "- Text to welcome the player to the game.\n",
    "- The button will be displayed at the center of the screen.\n"
   ]
  },
  {
   "cell_type": "code",
   "execution_count": null,
   "metadata": {},
   "outputs": [],
   "source": [
    "def draw_play_button(screen):\n",
    "    # Draw the play button shape (triangle)\n",
    "    pygame.draw.polygon(screen, red, [(width // 2 - 20, height // 2 - 20), \n",
    "                                        (width // 2 - 20, height // 2 + 20), \n",
    "                                        (width // 2 + 20, height // 2)])\n",
    "    # Render welcome text\n",
    "    text = font.render(\"Welcome to gesture based Flappy Bird\", True, black)\n",
    "    screen.blit(text, (width // 2 - text.get_width() // 2, height // 2 - 100))  # Center the text above the button\n"
   ]
  },
  {
   "cell_type": "markdown",
   "metadata": {},
   "source": [
    "# Function to Draw Replay Button\n",
    "This function draws a replay button on the screen after a game over:\n",
    "- A rectangular button with text indicating the action to restart the game.\n"
   ]
  },
  {
   "cell_type": "code",
   "execution_count": null,
   "metadata": {},
   "outputs": [],
   "source": [
    "def draw_replay_button(screen):\n",
    "    pygame.draw.rect(screen, red, (width // 2 - 50, height // 2 - 25, 100, 50))  # Draw a rectangle for the button\n",
    "    text = font.render(\"Replay\", True, black)  # Render the replay text\n",
    "    screen.blit(text, (width // 2 - text.get_width() // 2, height // 2 - 10))  # Center the text on the button\n"
   ]
  },
  {
   "cell_type": "markdown",
   "metadata": {},
   "source": [
    "# Function to Blur the Surface\n",
    "This function applies a blur effect to the game screen using OpenCV:\n",
    "- Converts the Pygame surface to a 3D array, applies a Gaussian blur, and converts it back to a Pygame surface for rendering.\n"
   ]
  },
  {
   "cell_type": "code",
   "execution_count": null,
   "metadata": {},
   "outputs": [],
   "source": [
    "def blur_surface(surface, radius):\n",
    "    array = pygame.surfarray.array3d(surface)  # Convert surface to 3D array\n",
    "    array = cv2.blur(array, (radius, radius))   # Apply Gaussian blur\n",
    "    return pygame.surfarray.make_surface(array)  # Convert back to Pygame surface\n"
   ]
  },
  {
   "cell_type": "markdown",
   "metadata": {},
   "source": [
    "# Function to Load Highest Score\n",
    "This function attempts to read the highest score from a file:\n",
    "- If the file exists, it reads the score; if not, it returns zero.\n"
   ]
  },
  {
   "cell_type": "code",
   "execution_count": null,
   "metadata": {},
   "outputs": [],
   "source": [
    "def load_highest_score():\n",
    "    try:\n",
    "        with open(\"highest_score.txt\", \"r\") as file:  # Open the file for reading\n",
    "            return int(file.read())                    # Return the highest score as an integer\n",
    "    except FileNotFoundError:\n",
    "        return 0  # If the file doesn't exist, return 0\n"
   ]
  },
  {
   "cell_type": "markdown",
   "metadata": {},
   "source": [
    "# Function to Save Highest Score\n",
    "This function saves the highest score to a file:\n",
    "- It writes the score as a string to the file `highest_score.txt`.\n"
   ]
  },
  {
   "cell_type": "code",
   "execution_count": null,
   "metadata": {},
   "outputs": [],
   "source": [
    "def save_highest_score(score):\n",
    "    with open(\"highest_score.txt\", \"w\") as file:  # Open the file for writing\n",
    "        file.write(str(score))                      # Write the highest score to the file\n"
   ]
  },
  {
   "cell_type": "markdown",
   "metadata": {},
   "source": [
    "# Setting Up the Game Loop\n",
    "This section initializes the camera for hand tracking and sets up the game start screen:\n",
    "- **`cap`**: Captures video from the webcam.\n",
    "- **`highest_score`**: Loads the highest score from the file.\n",
    "- **`game_started`**: A boolean variable to track whether the game has started.\n",
    "# Game Start Loop\n",
    "This loop runs until the user clicks the play button:\n",
    "- The screen is cleared and filled with white.\n",
    "- The video feed is processed for hand tracking.\n",
    "- The play button is drawn, and the frame is blurred for a visual effect.\n",
    "- User input is checked for starting the game by clicking the play button.\n",
    "# Main Game Loop\n",
    "Once the game has started, this loop handles all game logic, including:\n",
    "- Capturing the webcam feed and detecting hand gestures.\n",
    "- Updating the bird's position based on the gestures.\n",
    "- Checking for collisions with pipes or screen boundaries.\n",
    "- Updating the score and rendering the game elements.\n",
    "# Ending the Game\n",
    "When the game ends, this loop handles the cleanup and allows the player to replay:\n",
    "- The game is paused, and the replay button is drawn.\n",
    "- User input is checked for restarting the game or quitting.\n"
   ]
  },
  {
   "cell_type": "code",
   "execution_count": null,
   "metadata": {},
   "outputs": [],
   "source": [
    "cap = cv2.VideoCapture(0)                      # Initialize the webcam\n",
    "highest_score = load_highest_score()           # Load the highest score\n",
    "game_started = False                            # Initialize game state\n",
    "while not game_started:                        # Loop until the game starts\n",
    "    screen.fill(white)                        # Fill the screen with white\n",
    "    success, image = cap.read()               # Capture a frame from the webcam\n",
    "    if not success:                           # Check if the frame was captured successfully\n",
    "        break\n",
    "    \n",
    "    image = cv2.cvtColor(image, cv2.COLOR_BGR2RGB)  # Convert the image to RGB format\n",
    "    results = hands.process(image)             # Process the image for hand landmarks\n",
    "    image = cv2.cvtColor(image, cv2.COLOR_RGB2BGR)  # Convert back to BGR for OpenCV\n",
    "    \n",
    "    draw_play_button(screen)                   # Draw the play button on the screen\n",
    "    \n",
    "    frame_surface = pygame.surfarray.make_surface(image)  # Create a surface from the image\n",
    "    frame_surface = pygame.transform.rotate(frame_surface, -90)  # Rotate the surface for proper display\n",
    "    frame_surface = pygame.transform.flip(frame_surface, True, False)  # Flip the surface horizontally\n",
    "    blurred_surface = blur_surface(frame_surface, 15)  # Blur the surface\n",
    "    screen.blit(blurred_surface, (0, 0))            # Display the blurred video feed\n",
    "    draw_play_button(screen)                          # Draw the play button again for emphasis\n",
    "    pygame.display.flip()                              # Update the display\n",
    "    \n",
    "    for event in pygame.event.get():                  # Check for user events\n",
    "        if event.type == pygame.QUIT:                # Handle window close event\n",
    "            cap.release()                             # Release the webcam\n",
    "            pygame.quit()                             # Quit Pygame\n",
    "            sys.exit()                               # Exit the program\n",
    "        if event.type == pygame.MOUSEBUTTONDOWN:     # Check for mouse button clicks\n",
    "            mouse_pos = event.pos                     # Get the position of the mouse click\n",
    "            play_button_rect = pygame.Rect(width // 2 - 20, height // 2 - 20, 40, 40)  # Define the play button area\n",
    "            if play_button_rect.collidepoint(mouse_pos):  # Check if the click was within the button area\n",
    "                game_started = True                    # Start the game\n",
    "while True:                                       # Main game loop\n",
    "    for event in pygame.event.get():              # Process user events\n",
    "        if event.type == pygame.QUIT:            # Handle window close event\n",
    "            cap.release()                         # Release the webcam\n",
    "            pygame.quit()                         # Quit Pygame\n",
    "            sys.exit()                           # Exit the program\n",
    "\n",
    "    success, image = cap.read()                   # Capture a frame from the webcam\n",
    "    if not success:                               # Check if the frame was captured successfully\n",
    "        break\n",
    "\n",
    "    image = cv2.cvtColor(image, cv2.COLOR_BGR2RGB)  # Convert the image to RGB format\n",
    "    results = hands.process(image)                 # Process the image for hand landmarks\n",
    "    image = cv2.cvtColor(image, cv2.COLOR_RGB2BGR)  # Convert back to BGR for OpenCV\n",
    "\n",
    "    gesture_detected = None                       # Initialize gesture detected variable\n",
    "    if results.multi_hand_landmarks:              # Check if hands were detected\n",
    "        for hand_landmarks in results.multi_hand_landmarks:  # Loop through detected hands\n",
    "            mp_drawing.draw_landmarks(image, hand_landmarks, mp_hands.HAND_CONNECTIONS)  # Draw landmarks\n",
    "            if is_thumbs_up(hand_landmarks):      # Check for thumbs up gesture\n",
    "                gesture_detected = 'up'            # Set gesture detected to 'up'\n",
    "            elif is_thumbs_down(hand_landmarks):  # Check for thumbs down gesture\n",
    "                gesture_detected = 'down'          # Set gesture detected to 'down'\n",
    "\n",
    "    if gesture_detected == 'up':                   # If thumbs up detected\n",
    "        bird_speed_y = jump_speed                   # Apply jump speed to bird\n",
    "    elif gesture_detected == 'down':               # If thumbs down detected\n",
    "        bird_speed_y = fall_speed                   # Apply fall speed to bird\n",
    "\n",
    "    bird_speed_y += gravity                         # Apply gravity to the bird's speed\n",
    "    bird_y += bird_speed_y                          # Update bird's vertical position\n",
    "\n",
    "    screen.fill(white)                             # Fill the screen with white\n",
    "    screen.blit(bird_image, (bird_x, bird_y))     # Draw the bird at its new position\n",
    "\n",
    "    pipe_x -= pipe_speed                           # Move the pipe to the left\n",
    "    if pipe_x < -pipe_width:                      # If the pipe moves off screen\n",
    "        pipe_x = width                             # Reset pipe position to right side\n",
    "        pipe_y = random.randint(pipe_gap, height - pipe_gap)  # Randomize pipe position\n",
    "        score += 1                                 # Increment the score\n",
    "\n",
    "    pygame.draw.rect(screen, green, (pipe_x, 0, pipe_width, pipe_y))  # Draw top pipe\n",
    "    pygame.draw.rect(screen, green, (pipe_x, pipe_y + pipe_gap, pipe_width, height - pipe_y - pipe_gap))  # Draw bottom pipe\n",
    "\n",
    "    # Check for collisions\n",
    "    if (bird_y < 0 or bird_y > height or\n",
    "        (pipe_x < bird_x + bird_width and pipe_x + pipe_width > bird_x and\n",
    "        (bird_y < pipe_y or bird_y + bird_height > pipe_y + pipe_gap))):\n",
    "        beep_sound.play()                          # Play crash sound\n",
    "        if score > highest_score:                  # Check for new highest score\n",
    "            highest_score = score                   # Update highest score\n",
    "            save_highest_score(highest_score)      # Save new highest score\n",
    "        bird_y = height // 2                       # Reset bird position\n",
    "        bird_speed_y = 0                           # Reset bird speed\n",
    "        pipe_x = width                             # Reset pipe position\n",
    "        score = 0                                   # Reset score\n",
    "\n",
    "    show_score(score, highest_score)               # Display the scores\n",
    "    pygame.display.flip()                          # Update the display\n",
    "    clock.tick(30)                                # Control the frame rate\n",
    "while True:                                       # Game over loop\n",
    "    screen.fill(white)                            # Fill the screen with white\n",
    "    draw_replay_button(screen)                    # Draw the replay button\n",
    "    pygame.display.flip()                          # Update the display\n",
    "\n",
    "    for event in pygame.event.get():              # Process user events\n",
    "        if event.type == pygame.QUIT:            # Handle window close event\n",
    "            cap.release()                         # Release the webcam\n",
    "            pygame.quit()                         # Quit Pygame\n",
    "            sys.exit()                           # Exit the program\n",
    "        if event.type == pygame.MOUSEBUTTONDOWN:  # Check for mouse button clicks\n",
    "            mouse_pos = event.pos                 # Get the position of the mouse click\n",
    "            replay_button_rect = pygame.Rect(width // 2 - 50, height // 2 - 25, 100, 50)  # Define the replay button area\n",
    "            if replay_button_rect.collidepoint(mouse_pos):  # Check if the click was within the button area\n",
    "                bird_y = height // 2             # Reset bird position for replay\n",
    "                bird_speed_y = 0                  # Reset bird speed for replay\n",
    "                pipe_x = width                    # Reset pipe position for replay\n",
    "                score = 0                         # Reset score for replay\n",
    "                game_started = False              # Reset game state to not started\n",
    "                break                            # Exit the loop to restart the game\n",
    "\n"
   ]
  },
  {
   "cell_type": "markdown",
   "metadata": {},
   "source": []
  }
 ],
 "metadata": {
  "kernelspec": {
   "display_name": "Python 3",
   "language": "python",
   "name": "python3"
  },
  "language_info": {
   "codemirror_mode": {
    "name": "ipython",
    "version": 3
   },
   "file_extension": ".py",
   "mimetype": "text/x-python",
   "name": "python",
   "nbconvert_exporter": "python",
   "pygments_lexer": "ipython3",
   "version": "3.10.2"
  }
 },
 "nbformat": 4,
 "nbformat_minor": 2
}
